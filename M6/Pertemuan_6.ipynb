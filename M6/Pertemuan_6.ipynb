{
 "cells": [
  {
   "cell_type": "markdown",
   "metadata": {},
   "source": [
    "<center><strong>Sistem Temu Kembali Informasi</strong><br />\n",
    "<strong><font color=\"blue\">Semester Gasal T.A. 2020/2021</font></strong><br />\n",
    "</center>\n",
    "\n",
    "<strong>Outline pertemuan minggu ke-6</strong><br />\n",
    "<li> Pendahuluan clustering </li>\n",
    "<li> K-Means, K-Means++, DBSCAN</li>\n",
    "<li> Evaluasi clustering</li>\n",
    "<li> Visualisasi</li>"
   ]
  },
  {
   "cell_type": "markdown",
   "metadata": {},
   "source": [
    "<p><img alt=\"\" src=\"figures/56_Supervised VS unsupervised.png\" style=\"height:500px; width:1153px\" /></p>"
   ]
  },
  {
   "cell_type": "markdown",
   "metadata": {},
   "source": [
    "<p><img alt=\"\" src=\"figures/5_types_of_clustering.png\" style=\"height:500px; width:719px\" /></p>"
   ]
  },
  {
   "cell_type": "markdown",
   "metadata": {},
   "source": [
    "<h3>k-Means</h3>\n",
    "\n",
    "<p><img alt=\"\" src=\"figures/5_Kmeans_animation.gif\" style=\"height:300px; width:300px\" /></p>\n",
    "\n",
    "<p><img alt=\"\" src=\"figures/5_kmeans_Algorithm.png\" style=\"height:229px; width:430px\" /></p>\n",
    "\n",
    "<strong>Kelebihan:</strong>\n",
    "- Simpel, mudah untuk diimplementasikan\n",
    "- fleksibel terhadap perubahan jumalah K\n",
    "- Cocok untuk dataset yang besar\n",
    "- Mudah diinterpretasikan\n",
    "\n",
    "<strong>Kekurangan:</strong>\n",
    "- Harus menentukan jumlah K yang optimal\n",
    "- Hasil tidak konsisten karena inisialisasi centroid awal adalah random\n",
    "- Tidak cocok untuk imbalance data\n",
    "- Hanya untuk data numeric"
   ]
  },
  {
   "cell_type": "markdown",
   "metadata": {},
   "source": [
    "<h3>k-Means++</h3>\n",
    "\n",
    "- k-Means memiliki permasalahan pada inisialisasi centroid yang dilakukan secara random\n",
    "- Hal tersebut menyebabkan k-Means sensitif terhadap inisialisasi\n",
    "- Untuk mengatasi hal tersebut dapat digunakan k-Means++\n",
    "- k-Means++ melakukan inisialisasi centroid dengan menghitung probabilitas candidate centroid\n",
    "- Menghasilkan hasil yang lebih robust dibandingkan k-Means\n",
    "\n",
    "<strong>Algoritma inisialisasi k-Means++:</strong>\n",
    "- Memilih satu centroid awal secara random (c1)\n",
    "- Menghitung jarak antara centroid awal dengan seluruh data point \n",
    "- Memilih data point yang memiliki jarak paling jauh dengan (c1) sebagai centroid kedua (c2)\n",
    "- Dilakukan secara berulang-ulang hingga memperoleh jumlah centroid sesuai dengan jumlah k yang diinginkan"
   ]
  },
  {
   "cell_type": "markdown",
   "metadata": {},
   "source": [
    "<h3>DBSCAN (Density-Based Spatial Clustering of Applications with Noise)</h3>\n",
    "<p><img alt=\"\" src=\"figures/5_DBSCAN.gif\" style=\"height:360px; width:690px\" /></p>\n",
    "\n",
    "<p>DBSCAN tidak membutuhkan inisialisasi jumlah cluster. Jumlah cluster secara otomatis akan dideteksi berdasarakn data input</p>\n",
    "\n",
    "<strong>Istilah pada DBSCAN:</strong>\n",
    "- **Eps**: radius maksimal dari ketetanggaan\n",
    "- **MinPts**: jumlah minimum data point dalam Eps-neighbourhood dari sebuah point\n",
    "- **Reachability**: sebuah point reachabe terhadap data point lain jika memiliki jarak kurang dari Eps\n",
    "- **Connectivity**: melakukan penentuan apakah sebuah data point termasuk ke dalam suatu cluster dengan transitivity chaining-approach; contoh: p dan q dapat dianggap memiliki koneksi dan berada pada satu cluster apabila p->r->s->t->q\n",
    "- **Core point**: sebuah data point yang memiliki jumlah Eps-neighbourhood lebih dari MinPts\n",
    "- **Border point**: sebuah data point yang memiliki jumlah Eps-neighbourhoos kurang dari MinPts\n",
    "- **Noise**: jika suatu point bukan termasuk ke dalam core maupun border\n",
    "\n",
    "<p><img alt=\"\" src=\"figures/dbscan.png\" style=\"height:360px; width:690px\" /></p>\n",
    "\n",
    "<strong>Algoritma DBSCAN:</strong>\n",
    "- Pilih poin p sebagai inisialisasi poin\n",
    "- Pilih neighbour point berdasarkan Eps dan MinPts\n",
    "- Jika p adalah core point maka terbentuklan cluster 1\n",
    "- Proses diulangi untuk point yang tidak termasuk ke dalam cluster\n",
    "\n",
    "<strong>Kelebihan:</strong>\n",
    "- Tidak membutuhkan inisialisasi jumlah cluster\n",
    "- Robust terhadap outlier \n",
    "\n",
    "<strong>Kekurangan:</strong>\n",
    "- Pada beberapa kasus penentuan Eps tidak mudah "
   ]
  },
  {
   "cell_type": "code",
   "execution_count": null,
   "metadata": {},
   "outputs": [],
   "source": [
    "# Menggunakan data dari 20newsgroups\n",
    "# Load data dari pickle\n",
    "\n",
    "import pickle\n",
    "import os\n",
    "\n",
    "src_name = \"20newsgroup.pckl\"\n",
    "src_path = os.path.join(\"data\", src_name)\n",
    "with open(src_path, 'rb') as fin:\n",
    "    data = pickle.load(fin)\n",
    "\n",
    "docs = [doc for doc in data.data]\n",
    "label = data.target\n",
    "\n",
    "print('DONE!')"
   ]
  },
  {
   "cell_type": "code",
   "execution_count": null,
   "metadata": {},
   "outputs": [],
   "source": [
    "# preprocessing\n",
    "import re\n",
    "from nltk import sent_tokenize\n",
    "from nltk import word_tokenize\n",
    "\n",
    "def preprocess(doc):\n",
    "    sents = sent_tokenize(doc)\n",
    "    sents_tok = list() # tokenisasi kalimat\n",
    "    for s in sents:\n",
    "        s = s.strip().lower() # case folding dan menghilangkan new line\n",
    "        s = s.replace(\"\\n\", \" \") # menggantikan \\n dengan spasi\n",
    "        s = re.sub(r'[^a-zA-Z0-9 ]', ' ', s) # menghapus simbol\n",
    "        s = re.sub(' +', ' ', s) # menghapus repetitive space\n",
    "        \n",
    "        sents_tok.append(s)\n",
    "    \n",
    "    return \" \".join(sents_tok)\n",
    "\n",
    "docs_clear = list()\n",
    "for d in docs:\n",
    "    docs_clear.append(preprocess(d))"
   ]
  },
  {
   "cell_type": "code",
   "execution_count": null,
   "metadata": {},
   "outputs": [],
   "source": [
    "print(len(docs_clear))"
   ]
  },
  {
   "cell_type": "code",
   "execution_count": null,
   "metadata": {},
   "outputs": [],
   "source": [
    "# representasi vektor dengan VSM-TFIDF\n",
    "from sklearn.feature_extraction.text import TfidfVectorizer\n",
    "\n",
    "tfidf_vectorizer = TfidfVectorizer(max_df=0.95, min_df=2)\n",
    "X = tfidf_vectorizer.fit_transform(docs_clear)\n",
    "print(X.shape)"
   ]
  },
  {
   "cell_type": "code",
   "execution_count": null,
   "metadata": {},
   "outputs": [],
   "source": [
    "# k-means: \n",
    "# http://scikit-learn.org/stable/modules/generated/sklearn.cluster.KMeans.html#sklearn.cluster.KMeans\n",
    "from sklearn import cluster\n",
    "\n",
    "k = 3\n",
    "seed = 99 # Sembarang nilai untuk Random generator, mengapa penting? agar ketika dijalankan ulang nilai randomnya tetap\n",
    "km = cluster.KMeans(n_clusters=k, init='random', max_iter=300, random_state = seed)\n",
    "km.fit(X)\n",
    "'Done'"
   ]
  },
  {
   "cell_type": "code",
   "execution_count": null,
   "metadata": {},
   "outputs": [],
   "source": [
    "# Hasil clusteringnya\n",
    "C_km = km.predict(X)\n",
    "C_km[:10]"
   ]
  },
  {
   "cell_type": "code",
   "execution_count": null,
   "metadata": {},
   "outputs": [],
   "source": [
    "# k-means++ clustering \n",
    "# http://scikit-learn.org/stable/modules/generated/sklearn.cluster.KMeans.html\n",
    "kmPP = cluster.KMeans(n_clusters=k, init='k-means++', max_iter=300, tol=0.0001, n_jobs=-1, random_state = seed)\n",
    "kmPP.fit(X)\n",
    "C_kmpp = kmPP.predict(X)\n",
    "C_kmpp[:10]"
   ]
  },
  {
   "cell_type": "code",
   "execution_count": null,
   "metadata": {},
   "outputs": [],
   "source": [
    "# DBSCAN \n",
    "# http://scikit-learn.org/stable/modules/generated/sklearn.cluster.DBSCAN.html\n",
    "import numpy as np\n",
    "\n",
    "dbscan = cluster.DBSCAN(eps=0.5)\n",
    "dbscan.fit(X)\n",
    "C_db = dbscan.labels_.astype(np.int)\n",
    "C_db[:10]"
   ]
  },
  {
   "cell_type": "markdown",
   "metadata": {},
   "source": [
    "<h3 id=\"Latihan:\"><font color=\"blue\">Latihan 1:</font></h3>\n",
    "\n",
    "<ul> \n",
    "    <li> Mengapa membutuhkan label data? apa perbedaannya dengan label data pada proses klasifikasi?</li>\n",
    "    <li> Mengapa hasil dari DBSCAN -1? apa maksudnya? </li>\n",
    "</ul>"
   ]
  },
  {
   "cell_type": "code",
   "execution_count": null,
   "metadata": {},
   "outputs": [],
   "source": [
    "# Kerjakan latihan 1 pada cell berikut ini\n"
   ]
  },
  {
   "cell_type": "markdown",
   "metadata": {},
   "source": [
    "<h3> Evaluasi Clustering </h3>\n",
    "\n",
    "<strong> Evaluasi clustering dapat dibagi menjadi 2 kelompok: Eksternal dan Internal </strong>\n",
    "\n",
    "**Eksternal:** menghitung seberapa baik sebuah cluster dibandingkan dengan nground truth\n",
    "\n",
    "**Internal:** menghitung seberapa baik cluster yang terbentuk berdasarkan intra-cluster similarity dan inter-cluster similarity\n",
    "\n",
    "\n",
    "<p><img alt=\"\" src=\"figures/5_Clustering_evaluation.jpg\" style=\"height:400px; width:533px\" /></p>\n"
   ]
  },
  {
   "cell_type": "code",
   "execution_count": null,
   "metadata": {},
   "outputs": [],
   "source": [
    "# Evaluasi internal\n",
    "# Silhouette coefficient\n",
    "# Menghitung kemiripan data point dengan cluster tempat data point tsb berada\n",
    "# dibandingkan dengan cluster tetangga\n",
    "# Range nilai [-1, +1]\n",
    "# Semakin tinggi nilainya menunjukkan semakin baik cluster yang terbentuk\n",
    "\n",
    "from sklearn.metrics import silhouette_score as siluet\n",
    "C = [C_km, C_kmpp, C_db]\n",
    "\n",
    "for res in C:\n",
    "    print(siluet(X,res), end=', ')\n",
    "\n",
    "# NOTE: Silhouette coefficient hanya cocok untuk k-means"
   ]
  },
  {
   "cell_type": "code",
   "execution_count": null,
   "metadata": {},
   "outputs": [],
   "source": [
    "# Evaluasi eksternal\n",
    "# Purity\n",
    "# Menghitung jumlah data point yang benar dalam suatu cluster\n",
    "# Membutuhkan label data dari ground truth\n",
    "from sklearn.metrics.cluster import homogeneity_score as purity\n",
    "\n",
    "for res in C:\n",
    "    print(purity(label,res), end=', ')"
   ]
  },
  {
   "cell_type": "code",
   "execution_count": null,
   "metadata": {},
   "outputs": [],
   "source": [
    "# Evaluasi eksternal NMI\n",
    "# https://taufiksutanto.blogspot.co.id/2017/11/evaluasi-eksternal-clustering-pairwise.html\n",
    "from sklearn.metrics import normalized_mutual_info_score as NMI\n",
    "\n",
    "for res in C:\n",
    "    print(NMI(label,res), end=', ')"
   ]
  },
  {
   "cell_type": "code",
   "execution_count": null,
   "metadata": {},
   "outputs": [],
   "source": [
    "# Visulisasi cluster diperlukan untuk mengetahui gambaran umum dari suatu cluster\n",
    "# Visualisasi dapat menggunakan word cloud\n",
    "\n",
    "from wordcloud import WordCloud\n",
    "import matplotlib.pyplot as plt\n",
    "\n",
    "def wordClouds(teksCluster):\n",
    "    wc = WordCloud(background_color=\"white\")#, max_font_size=40\n",
    "    wordcloud = wc.generate(teksCluster)\n",
    "    plt.figure(num=1, facecolor='w', edgecolor='k') #figsize=(4, 3), dpi=600, #wc.to_file('wordCloud.png')\n",
    "    plt.imshow(wordcloud, cmap=plt.cm.jet, interpolation='nearest', aspect='auto'); plt.xticks(()); plt.yticks(())\n",
    "    #plt.savefig('wordCloud.png',bbox_inches='tight', pad_inches = 0.1, dpi=300)\n",
    "    plt.show()\n",
    "    \n",
    "\n",
    "cluster = 2 # misal cluster pertama\n",
    "idx = [i for i,c in enumerate(C_kmpp) if c==cluster]\n",
    "teks_cluster = ' '.join([docs_clear[i] for i in idx])\n",
    "wordClouds(teks_cluster)"
   ]
  },
  {
   "cell_type": "markdown",
   "metadata": {},
   "source": [
    "<h3 id=\"Latihan:\"><font color=\"blue\">Latihan 2:</font></h3>\n",
    "\n",
    "<ol>\n",
    "\t<li>load <strong>3</strong> kategori lain dari data 20newsgroup</li>\n",
    "\t<li>&nbsp;Lakukan preprocessing</li>\n",
    "\t<li>&nbsp;Bentuk vsmnya</li>\n",
    "\t<li>lakukan k-means++ clustering, misal k=3</li>\n",
    "\t<li>Evaluasi secara internal</li>\n",
    "\t<li>visualisasi hasilnya</li>\n",
    "</ol>\n"
   ]
  },
  {
   "cell_type": "code",
   "execution_count": null,
   "metadata": {},
   "outputs": [],
   "source": [
    "# Kerjakan latihan 2 pada cell berikut ini"
   ]
  }
 ],
 "metadata": {
  "celltoolbar": "Slideshow",
  "kernelspec": {
   "display_name": "Python 3",
   "language": "python",
   "name": "python3"
  },
  "language_info": {
   "codemirror_mode": {
    "name": "ipython",
    "version": 3
   },
   "file_extension": ".py",
   "mimetype": "text/x-python",
   "name": "python",
   "nbconvert_exporter": "python",
   "pygments_lexer": "ipython3",
   "version": "3.6.6"
  }
 },
 "nbformat": 4,
 "nbformat_minor": 2
}
