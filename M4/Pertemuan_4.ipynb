{
  "nbformat": 4,
  "nbformat_minor": 0,
  "metadata": {
    "celltoolbar": "Slideshow",
    "kernelspec": {
      "name": "python3",
      "display_name": "Python 3"
    },
    "colab": {
      "name": "Pertemuan_4.ipynb",
      "provenance": [],
      "collapsed_sections": []
    },
    "accelerator": "GPU"
  },
  "cells": [
    {
      "cell_type": "markdown",
      "metadata": {
        "id": "18zxoJTXHSAf"
      },
      "source": [
        "<center><strong>Sistem Temu Kembali Informasi</strong><br />\n",
        "<strong><font color=\"blue\">Semester Gasal T.A. 2020/2021</font></strong><br />\n",
        "</center>\n",
        "\n",
        "<strong>Outline pertemuan minggu ke-4</strong><br />\n",
        "<li> Word Embedding </li>"
      ]
    },
    {
      "cell_type": "markdown",
      "metadata": {
        "id": "JTfTE_CXHSAh"
      },
      "source": [
        "### Word Embedding\n",
        "\n",
        "<p> Representasi dari teks ke dalam dense matriks. Term yang memiliki makna serupa berada pada jarak yang berdekatan pada ruang vektor </p>\n",
        "<p> VSM merepresentasikan teks ke dalam sparse matriks </p>\n",
        "<p> Sparse matriks memiliki ukuran yang besar dan memiliki banyak nilai 0 </p>\n",
        "<p> Dense matriks ukurannya lebih kecil, dapat diinisialisasi, dan tidak memiliki nilai 0 </p>\n",
        "<h2><img alt=\"\" src=\"figures/3_word_embeddings.png\" style=\"height: 296px ; width: 602px\" /></h2>"
      ]
    },
    {
      "cell_type": "markdown",
      "metadata": {
        "id": "4ww-zetoHSAj"
      },
      "source": [
        "#### Algoritma word embedding\n",
        "<ul>\n",
        "    <li> Skip-gram </li>\n",
        "    <li> CBoW (Continuous Bag of Words)</li>\n",
        "    <li> GloVe (Global Vector)</li>\n",
        "    <li> FastText </li>\n",
        "    <li> BERT (based on context) </li>\n",
        "</ul>"
      ]
    },
    {
      "cell_type": "markdown",
      "metadata": {
        "id": "gW6ngpzMHSAk"
      },
      "source": [
        "#### Skip Gram dan CBoW\n",
        "<h2><img alt=\"\" src=\"figures/sg-cbow.png\"/></h2>\n",
        "\n",
        "<p> Dimana w(t) merupakan kata target dan w(t-n) - w(t+n) adalah konteks (kata yang berada disekitar kata target. n merupakan ukuran dari window size. Apabila n = 2 maka konteks didefinisikan sebagai 2 kata sebelum dan setelah kata target.</p>\n",
        "<p> Contoh: \"the big brown bear and the fox\"\n",
        "    <br>Apabila kata target adalah = \"brown\" dan n = 2 \n",
        "    <br>Maka: \n",
        "    <br>w(t) = \"brown\"\n",
        "    <br>w(t-2) = \"the\"\n",
        "    <br>w(t-1) = \"big\"\n",
        "    <br>w(t+1) = \"bear\"\n",
        "    <br>w(t+2) = \"and\"\n",
        "</p>\n",
        "    "
      ]
    },
    {
      "cell_type": "code",
      "metadata": {
        "id": "f71wEyS9HvnP",
        "outputId": "ce5584b1-197b-45c4-b55c-a68dc0a04c37",
        "colab": {
          "base_uri": "https://localhost:8080/",
          "height": 88
        }
      },
      "source": [
        "# from google colab\n",
        "from google.colab import drive\n",
        "drive.mount('/gdrive')\n",
        "%cd /gdrive/'My Drive'/P4\n",
        "!ls"
      ],
      "execution_count": 27,
      "outputs": [
        {
          "output_type": "stream",
          "text": [
            "Drive already mounted at /gdrive; to attempt to forcibly remount, call drive.mount(\"/gdrive\", force_remount=True).\n",
            "/gdrive/My Drive/P4\n",
            "data  figures  model  Pertemuan_4.ipynb\n"
          ],
          "name": "stdout"
        }
      ]
    },
    {
      "cell_type": "code",
      "metadata": {
        "id": "Sp4tJE7qHSAm"
      },
      "source": [
        "import os\n",
        "import pickle\n",
        "from sklearn.datasets import fetch_20newsgroups"
      ],
      "execution_count": 28,
      "outputs": []
    },
    {
      "cell_type": "code",
      "metadata": {
        "id": "2gCsORxaHSAw"
      },
      "source": [
        "# download 3 categoies from 20newgroup dataset\n",
        "# save it as binary\n",
        "\n",
        "categories = ['sci.med', 'talk.politics.misc',  'rec.autos']\n",
        "data = fetch_20newsgroups(subset='train', categories=categories,\\\n",
        "                          remove=('headers', 'footers', 'quotes'))\n",
        "\n",
        "dst_name = \"20newsgroup.pckl\"\n",
        "dst_path = os.path.join(\"data\", dst_name)\n",
        "with open(dst_path, 'wb') as fout:\n",
        "    pickle.dump(data, fout)"
      ],
      "execution_count": 29,
      "outputs": []
    },
    {
      "cell_type": "code",
      "metadata": {
        "id": "CpwCHSU9HSA2"
      },
      "source": [
        "# loada data pickle\n",
        "with open(dst_path, 'rb') as fin:\n",
        "    data = pickle.load(fin)\n",
        "\n",
        "data = [doc for doc in data.data]"
      ],
      "execution_count": 30,
      "outputs": []
    },
    {
      "cell_type": "code",
      "metadata": {
        "id": "Ye7UA4d8HSA8",
        "outputId": "deea9435-c817-45f6-a205-3a3eb1d6024c",
        "colab": {
          "base_uri": "https://localhost:8080/",
          "height": 120
        }
      },
      "source": [
        "data[6]"
      ],
      "execution_count": 31,
      "outputs": [
        {
          "output_type": "execute_result",
          "data": {
            "application/vnd.google.colaboratory.intrinsic+json": {
              "type": "string"
            },
            "text/plain": [
              "'\\nOk boys and girls,\\n\\n\"What was the \\'Ogadan War\\'????\"\\n\\nThe Money Raised in Band-Aid covered How Much of\\nthe Cost of Which Soviet Client State to replace what\\ncatagory of weapon system lost in the aforementioned war?\\n\\nWhy was the Joke: \"We arm the World.\" Really Not that funny?\\n\\nGonzo Station is the designation for WHICH USN Op Area?\\nand the primary threat targets in the Area Were:.....\\n\\nciao\\ndrieux\\n\\n\\n'"
            ]
          },
          "metadata": {
            "tags": []
          },
          "execution_count": 31
        }
      ]
    },
    {
      "cell_type": "code",
      "metadata": {
        "id": "2sACCqkfHSBE",
        "outputId": "a4f0e78e-8706-4f89-a73b-39095b0389cb",
        "colab": {
          "base_uri": "https://localhost:8080/",
          "height": 51
        }
      },
      "source": [
        "# preprocessing\n",
        "import re\n",
        "import nltk\n",
        "nltk.download('punkt')\n",
        "from nltk import sent_tokenize\n",
        "from nltk import word_tokenize\n",
        "\n",
        "def preprocess(doc):\n",
        "    sents = sent_tokenize(doc)\n",
        "    sents_tok = list() # tokenisasi kalimat\n",
        "    for s in sents:\n",
        "        s = s.strip().lower() # case folding dan menghilangkan new line\n",
        "        s = s.replace(\"\\n\", \" \") # menggantikan \\n dengan spasi\n",
        "        s = re.sub(r'[^a-zA-Z0-9 ]', ' ', s) # menghapus simbol\n",
        "        s = re.sub(' +', ' ', s) # menghapus repetitive space\n",
        "        \n",
        "        sents_tok.append(s)\n",
        "    \n",
        "    return \" \".join(sents_tok)\n",
        "\n",
        "docs = list()\n",
        "for d in data:\n",
        "    docs.append(preprocess(d))\n",
        "#docs"
      ],
      "execution_count": 32,
      "outputs": [
        {
          "output_type": "stream",
          "text": [
            "[nltk_data] Downloading package punkt to /root/nltk_data...\n",
            "[nltk_data]   Package punkt is already up-to-date!\n"
          ],
          "name": "stdout"
        }
      ]
    },
    {
      "cell_type": "code",
      "metadata": {
        "id": "tUzbexS_HSBK"
      },
      "source": [
        "# Untuk membentuk word embedding digunakan library Gensim\n",
        "# Format inputan dari Gensim adalah list of words untuk setiap kalimat\n",
        "# Contoh pada dokumen:\n",
        "#       Tiger is the biggest cat alive. The tigers species can be divided into 5 groups.\n",
        "# Inputan yang dibutuhkan Gensim adalah:\n",
        "#       [\"tiger\", \"is\", \"the\", \"biggest\", \"cat\", \"alive\"], [\"the\", \"tigers\", \"species\", \n",
        "#        \"can\", \"be\", \"devided\", \"into\", \"5\", \"groups\"]\n",
        "#\n",
        "doc_gensim = [word_tokenize(d) for d in docs]\n",
        "#print(doc_gensim)"
      ],
      "execution_count": 33,
      "outputs": []
    },
    {
      "cell_type": "code",
      "metadata": {
        "id": "VlVMZmJNHSBS",
        "outputId": "bb0303f8-4491-4cac-9730-29d1171e5e94",
        "colab": {
          "base_uri": "https://localhost:8080/",
          "height": 34
        }
      },
      "source": [
        "# train skip-gram dengan library gensim\n",
        "#\n",
        "from gensim.models import Word2Vec\n",
        "\n",
        "d = 300\n",
        "model_sg = Word2Vec(doc_gensim, min_count=1, size=d, window=5, workers=-1)\n",
        "print(\"DONE\")"
      ],
      "execution_count": 34,
      "outputs": [
        {
          "output_type": "stream",
          "text": [
            "DONE\n"
          ],
          "name": "stdout"
        }
      ]
    },
    {
      "cell_type": "code",
      "metadata": {
        "id": "ZdrtrACaHSBZ",
        "outputId": "dbf0cd06-93b8-4e22-cc50-3797cf62af0d",
        "colab": {
          "base_uri": "https://localhost:8080/",
          "height": 34
        }
      },
      "source": [
        "import os\n",
        "\n",
        "model_path = os.path.join('model', 'model_sg.model')\n",
        "# model dari word embedding dapat disimpan dengan fungsi di bawah ini\n",
        "model_sg.save(model_path)\n",
        "\n",
        "# untuk menggunakan model yang telah disimpan sebelumnya dapat dilakukan\n",
        "# dengan memanfaatkan fungsi load, beberapa model membutuhkan waktu yang lama\n",
        "# karena memiliki ukuran yang besar\n",
        "model_sg_load = Word2Vec.load(model_path)\n",
        "\n",
        "print('DONE')\n"
      ],
      "execution_count": 35,
      "outputs": [
        {
          "output_type": "stream",
          "text": [
            "DONE\n"
          ],
          "name": "stdout"
        }
      ]
    },
    {
      "cell_type": "markdown",
      "metadata": {
        "id": "YGUtb6-XHSBf"
      },
      "source": [
        "#### Word2 Vec menggunakan matriks dense\n",
        "\n",
        "<p>Penggunaan memori oleh Gensim</p>\n",
        "<p>Jumlah kata x size x 12 bytes <br>\n",
        "    Contoh: <br>\n",
        "    Jika terdapat 100.000 kata unik dengan menggunakan dimensi embedding 200 <br>\n",
        "    Maka memori yang dibutuhkan = 100.000 x 200 x 12 bytes = ~229MB\n",
        "</p>"
      ]
    },
    {
      "cell_type": "code",
      "metadata": {
        "id": "cWGSiOqkHSBg",
        "outputId": "c429d909-0559-4989-c1e0-9759aacb280c",
        "colab": {
          "base_uri": "https://localhost:8080/",
          "height": 1000
        }
      },
      "source": [
        "# Melihat vektor suatu kata\n",
        "model_sg.wv['car']"
      ],
      "execution_count": 36,
      "outputs": [
        {
          "output_type": "execute_result",
          "data": {
            "text/plain": [
              "array([ 9.2163071e-04,  1.1693257e-04, -1.5775987e-03, -1.1942146e-03,\n",
              "       -1.4069499e-03,  7.0930464e-04,  9.9954254e-04, -1.6399580e-03,\n",
              "       -4.0395552e-04,  9.0569491e-04, -1.5023064e-04, -9.8585826e-04,\n",
              "        1.1478326e-03,  7.6774799e-04,  8.7342726e-04, -7.5985387e-05,\n",
              "       -9.2184790e-05,  6.6724991e-05, -5.9735484e-04, -1.1551884e-03,\n",
              "        3.7036341e-04, -8.4486842e-04, -6.6639506e-04,  1.0475286e-03,\n",
              "        4.4623867e-04, -1.6348661e-03,  7.1942998e-04, -4.8876496e-04,\n",
              "        1.2077856e-03,  8.5683155e-04, -1.2063410e-03,  7.7154573e-06,\n",
              "        1.1511529e-03, -1.4446944e-03, -1.1662329e-03,  1.5370405e-03,\n",
              "        1.2719422e-03, -4.7268887e-04,  6.6855014e-04, -2.0495088e-04,\n",
              "       -1.3005155e-03, -1.0767892e-03,  1.6657349e-03, -1.5025460e-03,\n",
              "        3.8901065e-04, -1.6350874e-03,  7.4762240e-05, -4.3703528e-04,\n",
              "       -1.1248885e-03, -1.3902395e-03, -9.1467868e-04,  4.6449443e-04,\n",
              "        1.5605160e-03, -5.3503609e-04, -1.2790418e-04, -2.7422924e-04,\n",
              "       -1.1995248e-03,  1.2619264e-03, -1.6492052e-04,  1.0366379e-03,\n",
              "       -7.6927349e-04, -7.9440605e-04, -1.6506163e-03, -6.9927343e-04,\n",
              "       -9.4273995e-04, -5.4361718e-04,  2.9455066e-05, -8.6471858e-04,\n",
              "        3.1300788e-04, -1.3342054e-03, -1.1146091e-03,  9.8379317e-04,\n",
              "        1.3261685e-03,  1.1796793e-03,  8.7239445e-05, -8.7467273e-04,\n",
              "        1.2983124e-03,  1.4351835e-03, -8.3440414e-04, -1.0701141e-03,\n",
              "       -7.8104238e-04,  1.1967567e-03, -1.1234143e-03, -3.2293989e-04,\n",
              "       -5.3364580e-04, -1.5693672e-03,  1.5021818e-03,  1.2935213e-03,\n",
              "       -1.6028372e-03,  1.5386666e-05,  3.2542375e-04,  6.7968311e-04,\n",
              "        2.0620560e-04, -1.5869543e-04,  1.0469927e-03,  1.6253421e-04,\n",
              "       -6.2795065e-04,  3.5475980e-04, -5.5567810e-04,  2.1650807e-04,\n",
              "        1.5437709e-03,  3.5934232e-04,  2.5200643e-04, -1.0450390e-03,\n",
              "        9.3417254e-04,  9.8143599e-04,  1.6497426e-03,  3.2830297e-04,\n",
              "       -3.7451895e-04,  5.0537649e-04,  5.2685675e-04, -1.1585938e-03,\n",
              "       -1.6569198e-03,  1.2519161e-03, -3.3451465e-04, -8.3585113e-04,\n",
              "        1.1055830e-03, -1.0461344e-03, -7.6888123e-04,  1.0708555e-03,\n",
              "       -1.2795958e-03, -1.6629582e-03, -1.0454099e-03,  8.2295752e-05,\n",
              "        2.3846074e-04,  6.9448265e-04, -1.2190212e-03, -3.7936040e-04,\n",
              "       -1.1882449e-04, -1.3748658e-03,  9.3096023e-04, -9.8949508e-04,\n",
              "       -1.0972720e-04, -3.0062540e-04, -1.2037588e-03,  1.1699899e-03,\n",
              "       -5.2944844e-04, -1.6490597e-03,  9.9893566e-04, -2.2854982e-04,\n",
              "        1.5134026e-03,  9.6691569e-05, -1.6624603e-03, -1.3955871e-03,\n",
              "        6.3426432e-04, -1.2469563e-03,  1.1553104e-03,  1.3247627e-03,\n",
              "        9.5323531e-04,  2.4226961e-04, -5.6135590e-04, -1.6341868e-03,\n",
              "       -1.6429878e-03, -4.9078657e-04,  1.1663447e-03, -9.2514281e-05,\n",
              "        7.4143597e-04, -6.0951366e-04,  1.6351480e-03, -8.1921485e-04,\n",
              "        1.2737795e-03,  1.0808014e-03, -1.4109353e-03, -1.1644589e-03,\n",
              "       -1.5096716e-03, -1.3894903e-03,  1.0665517e-04,  1.4767377e-03,\n",
              "        1.4055927e-03,  6.0843874e-04,  1.6499732e-03,  1.3159106e-03,\n",
              "        1.2906374e-04,  2.0326080e-04, -1.0866702e-03, -6.4255670e-04,\n",
              "       -9.0023642e-04, -1.0030922e-03, -1.3331504e-03, -1.4236999e-03,\n",
              "        1.0630797e-05,  8.6367606e-07,  3.9413525e-04,  1.4012982e-03,\n",
              "        2.6981853e-04, -5.6181877e-04,  1.0634653e-03,  1.2138368e-03,\n",
              "        8.1541564e-04, -3.9505845e-04, -2.3291010e-04,  5.3299108e-04,\n",
              "       -8.2164898e-04,  4.1408115e-04,  7.9805010e-05,  6.7689770e-04,\n",
              "       -1.4760485e-03, -8.8655250e-04, -9.2895387e-04,  1.6433359e-03,\n",
              "       -4.7530895e-04, -5.6547072e-04, -1.3589180e-03,  5.3876312e-04,\n",
              "        1.0384128e-04,  5.0721405e-04,  1.3761669e-03,  3.0149380e-04,\n",
              "        6.3630572e-04, -1.2388824e-03, -5.2296807e-04, -1.3488666e-03,\n",
              "        8.9704024e-04, -2.4229675e-04,  5.2231533e-04,  5.7734200e-04,\n",
              "       -1.6247330e-03,  1.0331244e-03, -4.2515778e-04, -1.2128375e-03,\n",
              "       -8.5744279e-04,  1.6475298e-03, -1.0519581e-03, -1.6380006e-03,\n",
              "        6.3848094e-04,  1.5586021e-03,  1.3684443e-03, -7.5518293e-04,\n",
              "       -1.1404218e-03,  7.1371840e-05,  3.8788043e-04,  5.5449177e-04,\n",
              "        1.2049614e-03, -4.5780896e-04, -2.5760091e-04,  1.0149744e-04,\n",
              "        1.4624170e-03,  1.0363398e-03, -5.2164204e-04,  2.4524494e-04,\n",
              "        8.6625823e-04, -1.8893244e-05, -9.9476799e-04, -8.8439102e-04,\n",
              "       -3.2436692e-05,  2.5914676e-04,  6.8938319e-04, -5.5691291e-04,\n",
              "       -2.4448679e-04, -1.4345027e-03,  2.4829028e-04,  3.2833355e-04,\n",
              "       -1.6583214e-03, -6.1902701e-04, -3.3026902e-04,  1.6237934e-03,\n",
              "        1.9495591e-04, -6.8585156e-04,  6.3188962e-04, -1.4426194e-03,\n",
              "       -1.1617675e-04,  1.2177016e-03,  9.5804472e-04, -7.6273317e-04,\n",
              "       -1.5492110e-03,  1.3745313e-03, -2.2435343e-04, -1.3684692e-03,\n",
              "        9.8171993e-04,  4.3608149e-04, -1.3119789e-03,  9.3345862e-04,\n",
              "       -4.7543671e-04,  1.4609792e-03, -4.2850492e-04, -4.1142377e-04,\n",
              "        5.0856066e-05, -1.5298418e-03, -1.0572730e-03, -1.8732720e-04,\n",
              "        4.4276848e-04, -1.4529201e-03,  1.3975761e-03,  1.2016394e-03,\n",
              "        4.4439203e-04, -1.1253429e-03, -1.1075992e-03,  1.3744397e-03,\n",
              "       -5.5883086e-04, -6.5357221e-04,  7.7604735e-04,  6.1546871e-04,\n",
              "       -1.6124182e-03, -1.5972664e-03, -1.5140744e-03,  3.9470970e-04,\n",
              "        2.6692036e-05, -1.1281276e-05,  1.3062775e-03,  4.4177231e-04],\n",
              "      dtype=float32)"
            ]
          },
          "metadata": {
            "tags": []
          },
          "execution_count": 36
        }
      ]
    },
    {
      "cell_type": "code",
      "metadata": {
        "id": "BP89hL2BHSBm",
        "outputId": "23b16c60-4252-4091-be9c-c8e95105eb42",
        "colab": {
          "base_uri": "https://localhost:8080/",
          "height": 88
        }
      },
      "source": [
        "# Menghitung similarity vektor antar kata\n",
        "\n",
        "model_sg.wv.similarity('car', 'car')"
      ],
      "execution_count": 37,
      "outputs": [
        {
          "output_type": "stream",
          "text": [
            "/usr/local/lib/python3.6/dist-packages/gensim/matutils.py:737: FutureWarning: Conversion of the second argument of issubdtype from `int` to `np.signedinteger` is deprecated. In future, it will be treated as `np.int64 == np.dtype(int).type`.\n",
            "  if np.issubdtype(vec.dtype, np.int):\n"
          ],
          "name": "stderr"
        },
        {
          "output_type": "execute_result",
          "data": {
            "text/plain": [
              "1.0"
            ]
          },
          "metadata": {
            "tags": []
          },
          "execution_count": 37
        }
      ]
    },
    {
      "cell_type": "code",
      "metadata": {
        "id": "h6W7j9xoHSBs",
        "outputId": "7c077940-954c-4a7b-bdb5-e4defec2ecc9",
        "colab": {
          "base_uri": "https://localhost:8080/",
          "height": 241
        }
      },
      "source": [
        "#  Menampilkan top-N similar words\n",
        "\n",
        "model_sg.wv.similar_by_word('car', topn=10)"
      ],
      "execution_count": 38,
      "outputs": [
        {
          "output_type": "stream",
          "text": [
            "/usr/local/lib/python3.6/dist-packages/gensim/matutils.py:737: FutureWarning: Conversion of the second argument of issubdtype from `int` to `np.signedinteger` is deprecated. In future, it will be treated as `np.int64 == np.dtype(int).type`.\n",
            "  if np.issubdtype(vec.dtype, np.int):\n"
          ],
          "name": "stderr"
        },
        {
          "output_type": "execute_result",
          "data": {
            "text/plain": [
              "[('gatos', 0.20472154021263123),\n",
              " ('wpi', 0.204578697681427),\n",
              " ('eck', 0.2040053755044937),\n",
              " ('pampered', 0.2019251435995102),\n",
              " ('drivability', 0.2005893588066101),\n",
              " ('margoli', 0.1942407190799713),\n",
              " ('scarce', 0.1886296570301056),\n",
              " ('prying', 0.18846502900123596),\n",
              " ('syntex', 0.1884564459323883),\n",
              " ('books', 0.1880016177892685)]"
            ]
          },
          "metadata": {
            "tags": []
          },
          "execution_count": 38
        }
      ]
    },
    {
      "cell_type": "code",
      "metadata": {
        "id": "qk37khzTHSB4",
        "outputId": "8ea548e2-49bb-472c-f085-068208cf505f",
        "colab": {
          "base_uri": "https://localhost:8080/",
          "height": 241
        }
      },
      "source": [
        "# Mencari yang paling mirip dengan kata 'cars'\n",
        "model_sg.wv.most_similar('cars')"
      ],
      "execution_count": 39,
      "outputs": [
        {
          "output_type": "stream",
          "text": [
            "/usr/local/lib/python3.6/dist-packages/gensim/matutils.py:737: FutureWarning: Conversion of the second argument of issubdtype from `int` to `np.signedinteger` is deprecated. In future, it will be treated as `np.int64 == np.dtype(int).type`.\n",
            "  if np.issubdtype(vec.dtype, np.int):\n"
          ],
          "name": "stderr"
        },
        {
          "output_type": "execute_result",
          "data": {
            "text/plain": [
              "[('caveats', 0.23042982816696167),\n",
              " ('uvietta', 0.21939630806446075),\n",
              " ('goran', 0.21160390973091125),\n",
              " ('pass', 0.20260515809059143),\n",
              " ('stealths', 0.20066936314105988),\n",
              " ('spin', 0.20015880465507507),\n",
              " ('carroll', 0.19842290878295898),\n",
              " ('ingunale', 0.18859432637691498),\n",
              " ('vulnerability', 0.18656852841377258),\n",
              " ('hull', 0.1844136118888855)]"
            ]
          },
          "metadata": {
            "tags": []
          },
          "execution_count": 39
        }
      ]
    },
    {
      "cell_type": "markdown",
      "metadata": {
        "id": "hLVLIG4ZHSB_"
      },
      "source": [
        "<p><img alt=\"\" src=\"figures/3_cosine.png\" style=\"height:400px; width:683px\" /></p>"
      ]
    },
    {
      "cell_type": "code",
      "metadata": {
        "id": "JB1mWVHlHSCA",
        "outputId": "6c8a97ac-8599-4691-8cb4-3fb0e6e7f675",
        "colab": {
          "base_uri": "https://localhost:8080/",
          "height": 34
        }
      },
      "source": [
        "# error jika kata tidak ada di training data\n",
        "\n",
        "kata = 'entir'\n",
        "try:\n",
        "    print(model_sg.wv.most_similar(kata))\n",
        "except:\n",
        "    print('error! kata \"',kata,'\" tidak ada di training data')"
      ],
      "execution_count": 40,
      "outputs": [
        {
          "output_type": "stream",
          "text": [
            "error! kata \" entir \" tidak ada di training data\n"
          ],
          "name": "stdout"
        }
      ]
    },
    {
      "cell_type": "markdown",
      "metadata": {
        "id": "LeJpaqMzHSCI"
      },
      "source": [
        "### Note: ###\n",
        "<ul>\n",
        "    <li> Pada word2vec apabila suatu kata tidak terdapat dalam list vocabulary maka akan error </li>\n",
        "    <li> Kesalahan pengetikan (typo) bisa meninmbulkan error </li>\n",
        "    <li> Untuk mangatasi hal ini dapat dilakukan dengan menggunakan algoritma lain, seperti FastText </li>"
      ]
    },
    {
      "cell_type": "code",
      "metadata": {
        "id": "A2vEof4gHSCJ",
        "outputId": "aebb38b7-196f-416b-98cd-85f7e4225ce0",
        "colab": {
          "base_uri": "https://localhost:8080/",
          "height": 54
        }
      },
      "source": [
        "# \"predict\" vector for new data without re-training from the beginning\n",
        "d1 = ['new','generation','nvidia','gpu','is','rtx']\n",
        "d2 = ['deep','learning','computation','mostly', 'on', 'gpu']\n",
        "d3 = ['the','rtx','gpu','capable','super','sampling','ssdl']\n",
        "D = [d1,d2,d3]\n",
        "model_sg.train(D, total_examples=len(D), epochs=model_sg.epochs)\n",
        "print(model_sg.predict_output_word('gpu'))"
      ],
      "execution_count": 41,
      "outputs": [
        {
          "output_type": "stream",
          "text": [
            "[('intrigues', 4.4517652e-05), ('enduring', 4.4517652e-05), ('cardinal', 4.4517652e-05), ('shirer', 4.4517652e-05), ('chancellors', 4.4517652e-05), ('undermining', 4.4517652e-05), ('waning', 4.4517652e-05), ('strasser', 4.4517652e-05), ('schleicher', 4.4517652e-05), ('unite', 4.4517652e-05)]\n"
          ],
          "name": "stdout"
        }
      ]
    },
    {
      "cell_type": "markdown",
      "metadata": {
        "id": "XIaCW-22HSCP"
      },
      "source": [
        "<h3 id=\"Latihan:\"><font color=\"blue\">Latihan 1:</font></h3>\n",
        "\n",
        "<ul> \n",
        "    <li> Bangunlah word embedding dengan data 3 kategori lainnya dari data 20newsGroup</li>\n",
        "    <li> Lakukan training menggunakan Skip-Gram dan CBoW </li>\n",
        "    <li> Apakah vektor yang dihasilkan oleh suatu kata sama? ketika menggunakan Skip-Gram dan CBoW </li>\n",
        "    <li> Apakah hasil top-n similar memperoleh vocabulary yang sama? </li>\n",
        "    <li> Apakah jumlah dimensi berpengaruh pada hasil top-n most similar? </li>\n",
        "\n",
        "[link](https://machinelearningmastery.com/develop-word-embeddings-python-gensim/)"
      ]
    },
    {
      "cell_type": "markdown",
      "metadata": {
        "id": "IEgg6Cb1f7L9"
      },
      "source": [
        "### Bangunlah word embedding dengan data 3 kategori lainnya dari data 20newsGroup"
      ]
    },
    {
      "cell_type": "code",
      "metadata": {
        "id": "8RbdBsKjHSCQ"
      },
      "source": [
        "# Kerjakan latihan 1 pada cell berikut ini\n",
        "categories = ['sci.space', 'talk.politics.guns',  'rec.motorcycles']\n",
        "data = fetch_20newsgroups(subset='train', categories=categories,\\\n",
        "                          remove=('headers', 'footers', 'quotes'))\n",
        "\n",
        "dst_name = \"20newsgroup_lat1.pckl\"\n",
        "dst_path = os.path.join(\"data\", dst_name)\n",
        "with open(dst_path, 'wb') as fout:\n",
        "    pickle.dump(data, fout)\n",
        "# loada data pickle\n",
        "with open(dst_path, 'rb') as fin:\n",
        "    data = pickle.load(fin)\n",
        "\n",
        "data = [doc for doc in data.data]"
      ],
      "execution_count": 42,
      "outputs": []
    },
    {
      "cell_type": "code",
      "metadata": {
        "id": "sUBSidjGgzkC"
      },
      "source": [
        "docs = list()\n",
        "for d in data:\n",
        "    docs.append(preprocess(d))\n",
        "doc_gensim = [word_tokenize(d) for d in docs]"
      ],
      "execution_count": 43,
      "outputs": []
    },
    {
      "cell_type": "markdown",
      "metadata": {
        "id": "ymlAjAiHf_tk"
      },
      "source": [
        "### Lakukan training menggunakan Skip-Gram dan CBoW"
      ]
    },
    {
      "cell_type": "markdown",
      "metadata": {
        "id": "LLwh93Lfg6he"
      },
      "source": [
        "#### Skip-Gram"
      ]
    },
    {
      "cell_type": "code",
      "metadata": {
        "id": "Vg9J9IsAhXDX"
      },
      "source": [
        "# train skip-gram dengan library gensim\n",
        "d = 300\n",
        "model_sg_l1 = Word2Vec(doc_gensim, min_count=1, size=d, window=5, workers=-1,\\\n",
        "                       sg=1)"
      ],
      "execution_count": 44,
      "outputs": []
    },
    {
      "cell_type": "markdown",
      "metadata": {
        "id": "F97odiIMhJP_"
      },
      "source": [
        "#### CBoW"
      ]
    },
    {
      "cell_type": "code",
      "metadata": {
        "id": "gRalTxJHhxc_"
      },
      "source": [
        "# train CBoW dengan library gensim\n",
        "model_cbow_l1 = Word2Vec(doc_gensim, min_count=1, size=d, window=5, workers=-1)"
      ],
      "execution_count": 45,
      "outputs": []
    },
    {
      "cell_type": "markdown",
      "metadata": {
        "id": "Top4WOFLh34e"
      },
      "source": [
        "### Apakah vektor yang dihasilkan oleh suatu kata sama ketika menggunakan Skip-Gram dan CBoW? Sama"
      ]
    },
    {
      "cell_type": "code",
      "metadata": {
        "id": "3Ipnv5KckNWC"
      },
      "source": [
        "import numpy as np\n",
        "np.testing.assert_array_equal(model_sg_l1.wv['sun'], model_sg_l1.wv['sun'], \\\n",
        "                              err_msg=\"beda meski identik\")"
      ],
      "execution_count": 56,
      "outputs": []
    },
    {
      "cell_type": "code",
      "metadata": {
        "id": "VHwyuf22m1br"
      },
      "source": [
        "for vocab in list(model_sg_l1.wv.vocab):\n",
        "  np.testing.assert_array_equal(model_sg_l1.wv[vocab], model_cbow_l1.wv[vocab],\\\n",
        "                              err_msg=f\"Vektor kata {vocab} yang dihasilkan tak\\\n",
        "                              sama\")"
      ],
      "execution_count": 64,
      "outputs": []
    },
    {
      "cell_type": "markdown",
      "metadata": {
        "id": "DKhuNUaGn2PU"
      },
      "source": [
        "### Apakah hasil top-n similar memperoleh vocabulary yang sama? Sama"
      ]
    },
    {
      "cell_type": "code",
      "metadata": {
        "id": "Ee9n2ys5oupO",
        "outputId": "10d562aa-ddb0-46c8-abef-cae01007c20c",
        "colab": {
          "base_uri": "https://localhost:8080/",
          "height": 71
        }
      },
      "source": [
        "np.testing.assert_array_equal(\n",
        "    model_sg_l1.wv.similar_by_word('sun', topn=10),\n",
        "    model_sg_l1.wv.similar_by_word('sun', topn=10),\n",
        "    err_msg=\"beda meski identik\")"
      ],
      "execution_count": 73,
      "outputs": [
        {
          "output_type": "stream",
          "text": [
            "/usr/local/lib/python3.6/dist-packages/gensim/matutils.py:737: FutureWarning: Conversion of the second argument of issubdtype from `int` to `np.signedinteger` is deprecated. In future, it will be treated as `np.int64 == np.dtype(int).type`.\n",
            "  if np.issubdtype(vec.dtype, np.int):\n"
          ],
          "name": "stderr"
        }
      ]
    },
    {
      "cell_type": "code",
      "metadata": {
        "id": "06UnFqpyn-4a",
        "outputId": "88aad36e-ddf7-4fde-80e9-fcc49508cbf9",
        "colab": {
          "base_uri": "https://localhost:8080/",
          "height": 71
        }
      },
      "source": [
        "for vocab in list(model_sg_l1.wv.vocab):\n",
        "  np.testing.assert_array_equal(\n",
        "    model_sg_l1.wv.similar_by_word(vocab, topn=10),\n",
        "    model_cbow_l1.wv.similar_by_word(vocab, topn=10),\n",
        "    err_msg=f\"Vektor kata {vocab} yang dihasilkan tak sama\")"
      ],
      "execution_count": 74,
      "outputs": [
        {
          "output_type": "stream",
          "text": [
            "/usr/local/lib/python3.6/dist-packages/gensim/matutils.py:737: FutureWarning: Conversion of the second argument of issubdtype from `int` to `np.signedinteger` is deprecated. In future, it will be treated as `np.int64 == np.dtype(int).type`.\n",
            "  if np.issubdtype(vec.dtype, np.int):\n"
          ],
          "name": "stderr"
        }
      ]
    },
    {
      "cell_type": "markdown",
      "metadata": {
        "id": "S_98ciDmpwLx"
      },
      "source": [
        "### Apakah jumlah dimensi berpengaruh pada hasil top-n most similar? Berpengaruh"
      ]
    },
    {
      "cell_type": "code",
      "metadata": {
        "id": "4KOyeujrpxwY"
      },
      "source": [
        "# train skip-gram dengan library gensim\n",
        "d = 100\n",
        "model_sg_l1_d100 = Word2Vec(doc_gensim, min_count=1, size=d, window=5, \\\n",
        "                            workers=-1, sg=1)"
      ],
      "execution_count": 75,
      "outputs": []
    },
    {
      "cell_type": "code",
      "metadata": {
        "id": "uSHs81XhqKLL",
        "outputId": "67d48840-b05a-40b1-8fb6-d2876ed4aba0",
        "colab": {
          "base_uri": "https://localhost:8080/",
          "height": 581
        }
      },
      "source": [
        "for vocab in list(model_sg_l1.wv.vocab):\n",
        "  np.testing.assert_array_equal(\n",
        "    model_sg_l1.wv.similar_by_word(vocab, topn=10),\n",
        "    model_sg_l1_d100.wv.similar_by_word(vocab, topn=10),\n",
        "    err_msg=f\"Vektor kata {vocab} yang dihasilkan tak sama\")"
      ],
      "execution_count": 81,
      "outputs": [
        {
          "output_type": "stream",
          "text": [
            "/usr/local/lib/python3.6/dist-packages/gensim/matutils.py:737: FutureWarning: Conversion of the second argument of issubdtype from `int` to `np.signedinteger` is deprecated. In future, it will be treated as `np.int64 == np.dtype(int).type`.\n",
            "  if np.issubdtype(vec.dtype, np.int):\n"
          ],
          "name": "stderr"
        },
        {
          "output_type": "error",
          "ename": "AssertionError",
          "evalue": "ignored",
          "traceback": [
            "\u001b[0;31m---------------------------------------------------------------------------\u001b[0m",
            "\u001b[0;31mAssertionError\u001b[0m                            Traceback (most recent call last)",
            "\u001b[0;32m<ipython-input-81-1c48ed3247ed>\u001b[0m in \u001b[0;36m<module>\u001b[0;34m()\u001b[0m\n\u001b[1;32m      3\u001b[0m     \u001b[0mmodel_sg_l1\u001b[0m\u001b[0;34m.\u001b[0m\u001b[0mwv\u001b[0m\u001b[0;34m.\u001b[0m\u001b[0msimilar_by_word\u001b[0m\u001b[0;34m(\u001b[0m\u001b[0mvocab\u001b[0m\u001b[0;34m,\u001b[0m \u001b[0mtopn\u001b[0m\u001b[0;34m=\u001b[0m\u001b[0;36m10\u001b[0m\u001b[0;34m)\u001b[0m\u001b[0;34m,\u001b[0m\u001b[0;34m\u001b[0m\u001b[0;34m\u001b[0m\u001b[0m\n\u001b[1;32m      4\u001b[0m     \u001b[0mmodel_sg_l1_d100\u001b[0m\u001b[0;34m.\u001b[0m\u001b[0mwv\u001b[0m\u001b[0;34m.\u001b[0m\u001b[0msimilar_by_word\u001b[0m\u001b[0;34m(\u001b[0m\u001b[0mvocab\u001b[0m\u001b[0;34m,\u001b[0m \u001b[0mtopn\u001b[0m\u001b[0;34m=\u001b[0m\u001b[0;36m10\u001b[0m\u001b[0;34m)\u001b[0m\u001b[0;34m,\u001b[0m\u001b[0;34m\u001b[0m\u001b[0;34m\u001b[0m\u001b[0m\n\u001b[0;32m----> 5\u001b[0;31m     err_msg=f\"Vektor kata {vocab} yang dihasilkan tak sama\")\n\u001b[0m",
            "\u001b[0;32m/usr/local/lib/python3.6/dist-packages/numpy/testing/_private/utils.py\u001b[0m in \u001b[0;36massert_array_equal\u001b[0;34m(x, y, err_msg, verbose)\u001b[0m\n\u001b[1;32m    934\u001b[0m     \u001b[0m__tracebackhide__\u001b[0m \u001b[0;34m=\u001b[0m \u001b[0;32mTrue\u001b[0m  \u001b[0;31m# Hide traceback for py.test\u001b[0m\u001b[0;34m\u001b[0m\u001b[0;34m\u001b[0m\u001b[0m\n\u001b[1;32m    935\u001b[0m     assert_array_compare(operator.__eq__, x, y, err_msg=err_msg,\n\u001b[0;32m--> 936\u001b[0;31m                          verbose=verbose, header='Arrays are not equal')\n\u001b[0m\u001b[1;32m    937\u001b[0m \u001b[0;34m\u001b[0m\u001b[0m\n\u001b[1;32m    938\u001b[0m \u001b[0;34m\u001b[0m\u001b[0m\n",
            "\u001b[0;32m/usr/local/lib/python3.6/dist-packages/numpy/testing/_private/utils.py\u001b[0m in \u001b[0;36massert_array_compare\u001b[0;34m(comparison, x, y, err_msg, verbose, header, precision, equal_nan, equal_inf)\u001b[0m\n\u001b[1;32m    844\u001b[0m                                 \u001b[0mverbose\u001b[0m\u001b[0;34m=\u001b[0m\u001b[0mverbose\u001b[0m\u001b[0;34m,\u001b[0m \u001b[0mheader\u001b[0m\u001b[0;34m=\u001b[0m\u001b[0mheader\u001b[0m\u001b[0;34m,\u001b[0m\u001b[0;34m\u001b[0m\u001b[0;34m\u001b[0m\u001b[0m\n\u001b[1;32m    845\u001b[0m                                 names=('x', 'y'), precision=precision)\n\u001b[0;32m--> 846\u001b[0;31m             \u001b[0;32mraise\u001b[0m \u001b[0mAssertionError\u001b[0m\u001b[0;34m(\u001b[0m\u001b[0mmsg\u001b[0m\u001b[0;34m)\u001b[0m\u001b[0;34m\u001b[0m\u001b[0;34m\u001b[0m\u001b[0m\n\u001b[0m\u001b[1;32m    847\u001b[0m     \u001b[0;32mexcept\u001b[0m \u001b[0mValueError\u001b[0m\u001b[0;34m:\u001b[0m\u001b[0;34m\u001b[0m\u001b[0;34m\u001b[0m\u001b[0m\n\u001b[1;32m    848\u001b[0m         \u001b[0;32mimport\u001b[0m \u001b[0mtraceback\u001b[0m\u001b[0;34m\u001b[0m\u001b[0;34m\u001b[0m\u001b[0m\n",
            "\u001b[0;31mAssertionError\u001b[0m: \nArrays are not equal\nVektor kata a yang dihasilkan tak sama\nMismatched elements: 20 / 20 (100%)\n x: array([['mcc', '0.23352426290512085'],\n       ['tridump', '0.2256467640399933'],\n       ['caliber', '0.2109273374080658'],...\n y: array([['yanked', '0.42283788323402405'],\n       ['championed', '0.40297091007232666'],\n       ['descriptive', '0.3576916754245758'],..."
          ]
        }
      ]
    },
    {
      "cell_type": "code",
      "metadata": {
        "id": "5i0ZOD6LqlWs",
        "outputId": "dab0dc42-f4e8-4c7b-f9f4-736a20f9c443",
        "colab": {
          "base_uri": "https://localhost:8080/",
          "height": 241
        }
      },
      "source": [
        " model_sg_l1.wv.similar_by_word('sun', topn=10)"
      ],
      "execution_count": 82,
      "outputs": [
        {
          "output_type": "stream",
          "text": [
            "/usr/local/lib/python3.6/dist-packages/gensim/matutils.py:737: FutureWarning: Conversion of the second argument of issubdtype from `int` to `np.signedinteger` is deprecated. In future, it will be treated as `np.int64 == np.dtype(int).type`.\n",
            "  if np.issubdtype(vec.dtype, np.int):\n"
          ],
          "name": "stderr"
        },
        {
          "output_type": "execute_result",
          "data": {
            "text/plain": [
              "[('money', 0.26274335384368896),\n",
              " ('ps', 0.2186214029788971),\n",
              " ('mega', 0.21569541096687317),\n",
              " ('lennon', 0.20447425544261932),\n",
              " ('xs1100', 0.20339816808700562),\n",
              " ('matt', 0.202156201004982),\n",
              " ('restored', 0.2015211135149002),\n",
              " ('recovery', 0.198196679353714),\n",
              " ('wheate', 0.19777661561965942),\n",
              " ('sweden', 0.19638556241989136)]"
            ]
          },
          "metadata": {
            "tags": []
          },
          "execution_count": 82
        }
      ]
    },
    {
      "cell_type": "code",
      "metadata": {
        "id": "oPZO5YQ5qqey",
        "outputId": "ff5ec5de-a43a-440b-b6cb-642afbbbf98c",
        "colab": {
          "base_uri": "https://localhost:8080/",
          "height": 241
        }
      },
      "source": [
        " model_sg_l1_d100.wv.similar_by_word('sun', topn=10)"
      ],
      "execution_count": 83,
      "outputs": [
        {
          "output_type": "stream",
          "text": [
            "/usr/local/lib/python3.6/dist-packages/gensim/matutils.py:737: FutureWarning: Conversion of the second argument of issubdtype from `int` to `np.signedinteger` is deprecated. In future, it will be treated as `np.int64 == np.dtype(int).type`.\n",
            "  if np.issubdtype(vec.dtype, np.int):\n"
          ],
          "name": "stderr"
        },
        {
          "output_type": "execute_result",
          "data": {
            "text/plain": [
              "[('throng', 0.42842212319374084),\n",
              " ('speedo', 0.4172268509864807),\n",
              " ('wheate', 0.37708377838134766),\n",
              " ('perijove', 0.36823323369026184),\n",
              " ('jem', 0.36290794610977173),\n",
              " ('defuse', 0.3624386489391327),\n",
              " ('resumes', 0.3574535846710205),\n",
              " ('cookson', 0.35729891061782837),\n",
              " ('compression', 0.3562437891960144),\n",
              " ('uncertified', 0.34896132349967957)]"
            ]
          },
          "metadata": {
            "tags": []
          },
          "execution_count": 83
        }
      ]
    },
    {
      "cell_type": "markdown",
      "metadata": {
        "id": "SiwrP8YzHSCb"
      },
      "source": [
        "## FastText (Facebook-2016)##\n",
        "<ul>\n",
        "    <li> Menggunakan Sub-words: app, ppl, ple - apple, sehingga dapat mengatasi permasalahan typo atau tidak adanya suatu kata dalam vocabularies </li>\n",
        "    <li> Paper: https://arxiv.org/abs/1607.04606  </li>\n",
        "    <li> Website: https://fasttext.cc/ </li>\n",
        "    <li> Source: https://github.com/facebookresearch/fastText </li>\n",
        "</ul>"
      ]
    },
    {
      "cell_type": "code",
      "metadata": {
        "id": "D8e7exs1HSCc",
        "outputId": "9566a7f8-43f6-4cd5-e5fb-cfa5f2f6436c",
        "colab": {
          "base_uri": "https://localhost:8080/",
          "height": 35
        }
      },
      "source": [
        "from gensim.models import FastText\n",
        "\n",
        "dim = 300 # Jumlah neurons = ukuran vektor = jumlah kolom\n",
        "model_ft = FastText(doc_gensim, size=dim, window=5, min_count=2, workers=-1)\n",
        "'Done'"
      ],
      "execution_count": 84,
      "outputs": [
        {
          "output_type": "execute_result",
          "data": {
            "application/vnd.google.colaboratory.intrinsic+json": {
              "type": "string"
            },
            "text/plain": [
              "'Done'"
            ]
          },
          "metadata": {
            "tags": []
          },
          "execution_count": 84
        }
      ]
    },
    {
      "cell_type": "code",
      "metadata": {
        "id": "HHLc1iBgHSCi",
        "outputId": "49b5de7e-0440-4b73-a923-e79692c36bba",
        "colab": {
          "base_uri": "https://localhost:8080/",
          "height": 241
        }
      },
      "source": [
        "#  Menampilkan top-N similar words\n",
        "\n",
        "model_ft.wv.similar_by_word('car', topn=10)"
      ],
      "execution_count": 85,
      "outputs": [
        {
          "output_type": "stream",
          "text": [
            "/usr/local/lib/python3.6/dist-packages/gensim/matutils.py:737: FutureWarning: Conversion of the second argument of issubdtype from `int` to `np.signedinteger` is deprecated. In future, it will be treated as `np.int64 == np.dtype(int).type`.\n",
            "  if np.issubdtype(vec.dtype, np.int):\n"
          ],
          "name": "stderr"
        },
        {
          "output_type": "execute_result",
          "data": {
            "text/plain": [
              "[('care', 0.3797631561756134),\n",
              " ('carbon', 0.371961772441864),\n",
              " ('card', 0.3593623638153076),\n",
              " ('carbs', 0.3565341532230377),\n",
              " ('oscar', 0.3559572100639343),\n",
              " ('cards', 0.35226595401763916),\n",
              " ('carry', 0.3510536551475525),\n",
              " ('carl', 0.3446604311466217),\n",
              " ('carb', 0.34046387672424316),\n",
              " ('carriers', 0.33848267793655396)]"
            ]
          },
          "metadata": {
            "tags": []
          },
          "execution_count": 85
        }
      ]
    },
    {
      "cell_type": "code",
      "metadata": {
        "id": "w0J-RBbYHSCo",
        "outputId": "152eae06-cc1d-49b5-e349-30b54d0ca14f",
        "colab": {
          "base_uri": "https://localhost:8080/",
          "height": 241
        }
      },
      "source": [
        "# Mencari yang paling mirip dengan kata 'cars'\n",
        "model_ft.wv.most_similar('cars')"
      ],
      "execution_count": 86,
      "outputs": [
        {
          "output_type": "stream",
          "text": [
            "/usr/local/lib/python3.6/dist-packages/gensim/matutils.py:737: FutureWarning: Conversion of the second argument of issubdtype from `int` to `np.signedinteger` is deprecated. In future, it will be treated as `np.int64 == np.dtype(int).type`.\n",
            "  if np.issubdtype(vec.dtype, np.int):\n"
          ],
          "name": "stderr"
        },
        {
          "output_type": "execute_result",
          "data": {
            "text/plain": [
              "[('scars', 0.4224168360233307),\n",
              " ('mars', 0.3457052707672119),\n",
              " ('carriers', 0.3412468135356903),\n",
              " ('care', 0.3377683758735657),\n",
              " ('wars', 0.32996058464050293),\n",
              " ('car', 0.32129740715026855),\n",
              " ('careers', 0.3060256838798523),\n",
              " ('quasars', 0.29644346237182617),\n",
              " ('bars', 0.2964199185371399),\n",
              " ('carbs', 0.28946223855018616)]"
            ]
          },
          "metadata": {
            "tags": []
          },
          "execution_count": 86
        }
      ]
    },
    {
      "cell_type": "code",
      "metadata": {
        "id": "OmlLUb3uHSCt",
        "outputId": "dad8e34f-b18e-4031-cef2-fa3773648da5",
        "colab": {
          "base_uri": "https://localhost:8080/",
          "height": 105
        }
      },
      "source": [
        "# Melihat similarity antar kata\n",
        "\n",
        "print(model_ft.wv.similarity('cars', 'car'))\n",
        "print(model_sg.wv.similarity('cars', 'car'))"
      ],
      "execution_count": 87,
      "outputs": [
        {
          "output_type": "stream",
          "text": [
            "0.3212974\n",
            "0.06379849\n"
          ],
          "name": "stdout"
        },
        {
          "output_type": "stream",
          "text": [
            "/usr/local/lib/python3.6/dist-packages/gensim/matutils.py:737: FutureWarning: Conversion of the second argument of issubdtype from `int` to `np.signedinteger` is deprecated. In future, it will be treated as `np.int64 == np.dtype(int).type`.\n",
            "  if np.issubdtype(vec.dtype, np.int):\n"
          ],
          "name": "stderr"
        }
      ]
    },
    {
      "cell_type": "code",
      "metadata": {
        "id": "NWOfW4_oHSC0",
        "outputId": "b8776b62-2981-465c-9b91-12a3cdd64996",
        "colab": {
          "base_uri": "https://localhost:8080/",
          "height": 88
        }
      },
      "source": [
        "# Tidak error jika kata tidak ada di training data\n",
        "\n",
        "kata = 'beckmans'\n",
        "try:\n",
        "    print(model_ft.wv.most_similar(kata))\n",
        "except:\n",
        "    print('error! kata \"',kata,'\" tidak ada di training data')\n",
        "    \n",
        "\n",
        "# Tidak terjadi error saat kata tidak terdapat pada vocabulary"
      ],
      "execution_count": 88,
      "outputs": [
        {
          "output_type": "stream",
          "text": [
            "[('humans', 0.3696466088294983), ('germans', 0.355217307806015), ('blackman', 0.3220236897468567), ('jackman', 0.319011390209198), ('beans', 0.3016563653945923), ('ans', 0.2911129891872406), ('means', 0.26861149072647095), ('sans', 0.26726704835891724), ('leans', 0.25095224380493164), ('bans', 0.2482897937297821)]\n"
          ],
          "name": "stdout"
        },
        {
          "output_type": "stream",
          "text": [
            "/usr/local/lib/python3.6/dist-packages/gensim/matutils.py:737: FutureWarning: Conversion of the second argument of issubdtype from `int` to `np.signedinteger` is deprecated. In future, it will be treated as `np.int64 == np.dtype(int).type`.\n",
            "  if np.issubdtype(vec.dtype, np.int):\n"
          ],
          "name": "stderr"
        }
      ]
    },
    {
      "cell_type": "markdown",
      "metadata": {
        "id": "QMtMtOv9HSC6"
      },
      "source": [
        "<h3 id=\"Latihan:\"><font color=\"blue\">Latihan 2:</font></h3>\n",
        "\n",
        "<ul>\n",
        "\t<li>Apakah kelebihan dan kekurangan WE secara umum?</li>\n",
        "\t<li>Apakah kira-kira aplikasi yang dapat memanfaatkan WE?</li>\n",
        "\t<li>Apakah bisa dijadikan representasi dokumen? Bagaimana caranya?</li>\n",
        "\t<li>Bergantung pada apa sajakah performa model WE?</li>\n",
        "</ul>\n",
        "\n",
        "* Preprocessing apa yang sebaiknya dilakukan pada model Word Embedding?\n",
        "* Apakah Pos Tag bermanfaat disini? Jika iya bagaimana menggunakannya?"
      ]
    },
    {
      "cell_type": "markdown",
      "metadata": {
        "id": "o6wT5ArQLGfF"
      },
      "source": [
        "### Kerjakan latihan 2 pada cell berikut ini\n",
        "\n",
        "* Apakah kelebihan dan kekurangan WE secara umum?\n",
        "  - kekurangan [link](https://aylien.com/blog/word-embeddings-and-their-challenges)\n",
        "    - ketidakmampuan mengatasi kata diluar kamus (OOV)\n",
        "    - tak ada representasi terbagi pada level sub-kata\n",
        "    - scaling ke bahasa baru butuh matriks embedding baru\n",
        "    - tak dapat digunakan untuk inisiasi arsitektur SOTA\n",
        "  - kelebihan [link](https://aylien.com/blog/word-embeddings-and-their-challenges)\n",
        "    - penyusunan angka merepresentasikan informasi semantik dan sintaksis dari kata dan konteks mereka\n",
        "    - tak hanya belajar arti dan semantik dari kata, namun juga sintak dan grammar pada tingkatan tertentu\n",
        "    - tak perlu anotasi yang berlebihan\n",
        "    - dapat diturunkan dari corpus tak beranotasi yang dapat dibaca\n",
        "    - pre-trained embedding dapat digunakan pada tugas yang menggunakan data berlabel sedikit\n",
        "* Apakah kira-kira aplikasi yang dapat memanfaatkan WE?\n",
        "  - aplikasi NLP secara umum yang membutuhkan pemahaman bahasa seperti Analisis Respon Survei, Analisis Komentar, dan Sistem Rekomendasi Music/Video [link](https://www.kdnuggets.com/2019/02/word-embeddings-nlp-applications.html)\n",
        "* Apakah bisa dijadikan representasi dokumen? Bagaimana caranya?\n",
        "  - bisa, dengan memadukan pendekatan vektor dokumen (melalui model Vector Space Model) dengan word embedding untuk mengukur tingkat kemiripan [link](http://xplordat.com/2018/09/27/word-embeddings-and-document-vectors-part-1-similarity/)\n",
        "* Bergantung pada apa sajakah performa model WE?\n",
        "  - jumlah corpus kata dan konteks yang digunakan, bahasa yang digunakan dan pre-processing kata sebelum di olah menjadi matriks\n",
        "* Preprocessing apa yang sebaiknya dilakukan pada model Word Embedding?\n",
        "  - tak semua tugas butuh level pre-pemrosesan yang sama. Berikut general rule of thumb berdasarkan data dan domain [link](https://www.kdnuggets.com/2019/04/text-preprocessing-nlp-machine-learning.html)  \n",
        "  ![grot](https://cdn-images-1.medium.com/max/1600/1*VRgrWGLBJJDXsQE72QyI3g.png)\n",
        "* Apakah Pos Tag bermanfaat disini? Jika iya bagaimana menggunakannya?\n",
        "  - bisa bermanfaat [link](https://stackoverflow.com/questions/51537441/how-to-combine-both-word-embeddings-and-pos-embedding-together-to-build-the-clas)\n",
        "  - berasumsi konteks tiap kata itu penting:\n",
        "    - komputasikan word embedding\n",
        "    - komputasikan POS\n",
        "    - jalankan LSTM atau recurrent layer yang sejenis pada POS (tak wajib)\n",
        "    - tiap kata buat representasi berisikan word embedding diteruskan oleh keluaran yang terkait dari LSTM layer\n",
        "    - gunakan FC layer untuk membuat hidden representation yang konsisten"
      ]
    }
  ]
}