{
 "cells": [
  {
   "cell_type": "markdown",
   "metadata": {},
   "source": [
    "<center><strong>Sistem Temu Kembali Informasi</strong><br />\n",
    "<strong><font color=\"blue\">Semester Gasal T.A. 2020/2021</font></strong><br />\n",
    "</center>\n",
    "\n",
    "<strong>Outline pertemuan minggu ke-5</strong><br />\n",
    "<li> Pendahuluan Klasifikasi </li>\n",
    "<li> K-NN, Naive Byaes, Decision Tree, SVM, NN </li>\n",
    "<li> Visualisasi dengan boxplot </li>\n"
   ]
  },
  {
   "cell_type": "markdown",
   "metadata": {},
   "source": [
    "<p><img alt=\"\" src=\"figures/56_Supervised VS unsupervised.png\" style=\"height:500px; width:1153px\" /></p>"
   ]
  },
  {
   "cell_type": "markdown",
   "metadata": {},
   "source": [
    "### K-Nearest Neighbour (K-NN) \n",
    "- Classifier yang paling sederhana\n",
    "- Dapat digunakan untuk permaslaahn klasifikasi dan regresi\n",
    "\n",
    "<strong> Kelebihan: </strong>\n",
    "- Efisien untuk data berukuran besar\n",
    "- Sederhana, mudah diimplementasikan\n",
    "- Mudah dimodikasi (perhitungan jarak)\n",
    "- Menangani data multiclass dengan mudah\n",
    "\n",
    "<strong> Kekurangan: </strong>\n",
    "- Semakin besar data semakin lambat performanya (menghitung NN)\n",
    "- Memerlukan jumlah K optimal\n",
    "- Tidak cocok untuk imbalance data\n",
    "\n",
    "<p><img alt=\"\" src=\"figures/6_kNN.JPG\" style=\"height:300px; width:711px\" /></p>"
   ]
  },
  {
   "cell_type": "code",
   "execution_count": null,
   "metadata": {},
   "outputs": [],
   "source": [
    "# load data pickle dari 20newsgroups yang didapat dari pertemuan 4\n",
    "import pickle\n",
    "import os\n",
    "\n",
    "src_name = \"20newsgroup.pckl\"\n",
    "src_path = os.path.join(\"data\", src_name)\n",
    "with open(src_path, 'rb') as fin:\n",
    "    data = pickle.load(fin)\n",
    "\n",
    "docs = [doc for doc in data.data]\n",
    "label = data.target\n",
    "\n",
    "print('DONE!')"
   ]
  },
  {
   "cell_type": "code",
   "execution_count": null,
   "metadata": {},
   "outputs": [],
   "source": [
    "# preprocessing\n",
    "import re\n",
    "from nltk import sent_tokenize\n",
    "from nltk import word_tokenize\n",
    "\n",
    "def preprocess(doc):\n",
    "    sents = sent_tokenize(doc)\n",
    "    sents_tok = list() # tokenisasi kalimat\n",
    "    for s in sents:\n",
    "        s = s.strip().lower() # case folding dan menghilangkan new line\n",
    "        s = s.replace(\"\\n\", \" \") # menggantikan \\n dengan spasi\n",
    "        s = re.sub(r'[^a-zA-Z0-9 ]', ' ', s) # menghapus simbol\n",
    "        s = re.sub(' +', ' ', s) # menghapus repetitive space\n",
    "        \n",
    "        sents_tok.append(s)\n",
    "    \n",
    "    return \" \".join(sents_tok)\n",
    "\n",
    "docs_clear = list()\n",
    "for d in docs:\n",
    "    docs_clear.append(preprocess(d))"
   ]
  },
  {
   "cell_type": "code",
   "execution_count": null,
   "metadata": {},
   "outputs": [],
   "source": [
    "# representasi vektor dengan VSM-TFIDF\n",
    "from sklearn.feature_extraction.text import TfidfVectorizer\n",
    "\n",
    "tfidf_vectorizer = TfidfVectorizer(max_df=0.95, min_df=2)\n",
    "X = tfidf_vectorizer.fit_transform(docs_clear)\n",
    "print(X.shape)"
   ]
  },
  {
   "cell_type": "code",
   "execution_count": null,
   "metadata": {},
   "outputs": [],
   "source": [
    "print(len(label))\n",
    "print(len(docs_clear))\n",
    "print(len(X.getnnz(1)))\n",
    "print(X.shape)"
   ]
  },
  {
   "cell_type": "code",
   "execution_count": null,
   "metadata": {},
   "outputs": [],
   "source": [
    "# Cleaning noise\n",
    "# Hapus label yang memiliki row = 0 pada tfidf-nya\n",
    "# Hapus row yang memiliki nilai 0\n",
    "Y = label[X.getnnz(1)>0]\n",
    "X_clear = X[X.getnnz(1)>0]\n",
    "\n",
    "# Hapus dokumen yang memiliki nilai row 0\n",
    "docs_nonzero = list()\n",
    "for i, d in enumerate(X.getnnz(1)>0):\n",
    "    if d:\n",
    "        docs_nonzero.append(docs_clear[i])\n",
    "\n",
    "print(X_clear.shape, len(Y), len(docs_nonzero))"
   ]
  },
  {
   "cell_type": "code",
   "execution_count": null,
   "metadata": {},
   "outputs": [],
   "source": [
    "# Membagi data menjadi dua yaitu data training dan data testing\n",
    "from sklearn.model_selection import train_test_split\n",
    "\n",
    "X_train, X_test, Y_train, Y_test = train_test_split(X_clear, Y, test_size=.3, random_state=7)\n",
    "print(X_train.shape, X_test.shape)"
   ]
  },
  {
   "cell_type": "code",
   "execution_count": null,
   "metadata": {},
   "outputs": [],
   "source": [
    "# KNN menggunakan scikit-learn library\n",
    "# http://scikit-learn.org/stable/modules/neighbors.html\n",
    "from sklearn import neighbors\n",
    "\n",
    "K = 10\n",
    "weights = 'distance'\n",
    "kNN = neighbors.KNeighborsClassifier(n_neighbors, weights=weights)\n",
    "kNN.fit(X_train, Y_train)\n",
    "print('Done!')"
   ]
  },
  {
   "cell_type": "code",
   "execution_count": null,
   "metadata": {},
   "outputs": [],
   "source": [
    "# Prediksi dengan KNN\n",
    "Y_knn = kNN.predict(X_test)"
   ]
  },
  {
   "cell_type": "code",
   "execution_count": null,
   "metadata": {},
   "outputs": [],
   "source": [
    "# Evaluasi dengan akurasi\n",
    "from sklearn.metrics import accuracy_score\n",
    "\n",
    "accuracy_score(Y_test, Y_knn)"
   ]
  },
  {
   "cell_type": "markdown",
   "metadata": {},
   "source": [
    "<h3 id=\"Latihan:\"><font color=\"blue\">Latihan 1:</font></h3>\n",
    "\n",
    "<ul> \n",
    "    <li> Mengapa perlu dilakukan data splitting (training dan testing)?</li>\n",
    "    <li> Apakah rasio splitting berpengaruh pada performa dari model? </li>\n",
    "    <li> Cobalah beberapa model dengan merubah nilai dari parameter K, berapakah nilai K yang paling optimal? </li>"
   ]
  },
  {
   "cell_type": "code",
   "execution_count": null,
   "metadata": {},
   "outputs": [],
   "source": [
    "# Kerjakan latihan 1 pada cell berikut ini\n",
    "\n"
   ]
  },
  {
   "cell_type": "markdown",
   "metadata": {},
   "source": [
    "### Naive Bayes Classifier\n",
    "\n",
    "Metode klasifikasi dengan pendekatan probabilitas yang didasarkan pada teorema <strong>Bayes</strong>. Berasumsi bahwa semua fitur adalah independen dan memiliki kontribusi yang sama.\n",
    "\n",
    "<p><img alt=\"\" src=\"figures/naive_bayes.png\" style=\"width: 400px ; height: 220px\" /></p>\n",
    "\n",
    "<strong>Dimana:</strong>\n",
    "- x : fitur\n",
    "- c : kelas\n",
    "- P(c|x) : Probabilitas kelas c diberikan x sebagai fitur\n",
    "\n",
    "<strong> Kelebihan:</strong>\n",
    "- Cepat dan mudah diimplementasikan\n",
    "- Cocok untuk multiclass\n",
    "- Dapat bekerja dengan baik untuk data berdimensi tinggi (high-dimensional data)\n",
    "\n",
    "<strong> Kekurangan:</strong>\n",
    "- Asumsi bahwa semua fitur independen terkadang tidak sesuai dengan real-life data"
   ]
  },
  {
   "cell_type": "code",
   "execution_count": null,
   "metadata": {},
   "outputs": [],
   "source": [
    "# Menggunakan data sebelumnya\n",
    "# Naive bayes menggunakan library scikit-learn\n",
    "# http://scikit-learn.org/stable/modules/naive_bayes.html\n",
    "from sklearn.naive_bayes import GaussianNB\n",
    "\n",
    "gnb = GaussianNB()\n",
    "nbc = gnb.fit(X_train.toarray(), Y_train) \n",
    "Y_nbc = nbc.predict(X_test.toarray())\n",
    "\n",
    "accuracy_score(Y_test, Y_nbc)"
   ]
  },
  {
   "cell_type": "markdown",
   "metadata": {},
   "source": [
    "### Decision Tree\n",
    "\n",
    "Decision tree menggunakan rule-based (if else condition) pada sebuah tree untuk membangan sebuah model. Decision tree dapat dipergunakan untuk categorical ataupun numerical data. \n",
    "\n",
    "<p><img alt=\"\" src=\"figures/6_DT.png\" style=\"height:336px; width:904px\" /></p>\n",
    "\n",
    "<p> Contoh: </p>\n",
    "<p><img alt=\"\" src=\"figures/6_DT_meme.png\" style=\"height:342px; width:460px\" /></p>\n",
    "\n",
    "<strong>Kelebihan:</strong>\n",
    "- Mudah untuk dipahami, cocok untuk visualisasi\n",
    "- Dapat digunakan untuk categorical maupun numerical data\n",
    "- non-parametric model\n",
    "- Robust terhadap outliers dan missing values\n",
    "\n",
    "<strong>Kekurangan:</strong>\n",
    "- Sering overfit\n",
    "\n",
    "\n",
    "\n"
   ]
  },
  {
   "cell_type": "code",
   "execution_count": null,
   "metadata": {},
   "outputs": [],
   "source": [
    "# Decision Tree dengan library scikit-learn\n",
    "#http://scikit-learn.org/stable/modules/tree.html\n",
    "from sklearn import tree\n",
    "\n",
    "DT = tree.DecisionTreeClassifier()\n",
    "DT = DT.fit(X_train, Y_train)\n",
    "Y_DT = DT.predict(X_test)\n",
    "\n",
    "accuracy_score(Y_test, Y_DT)"
   ]
  },
  {
   "cell_type": "code",
   "execution_count": null,
   "metadata": {},
   "outputs": [],
   "source": [
    "!pip install pydotplus"
   ]
  },
  {
   "cell_type": "code",
   "execution_count": null,
   "metadata": {},
   "outputs": [],
   "source": [
    "# Visualisasi tree\n",
    "import pydotplus\n",
    "from sklearn.externals.six import StringIO\n",
    "from IPython.display import Image\n",
    "from sklearn.tree import export_graphviz\n",
    "\n",
    "dot_data = StringIO()\n",
    "export_graphviz(DT, out_file=dot_data, filled=True, rounded=True)\n",
    "graph = pydotplus.graph_from_dot_data(dot_data.getvalue())\n",
    "Image(graph.create_png())"
   ]
  },
  {
   "cell_type": "markdown",
   "metadata": {},
   "source": [
    "### Random Forest\n",
    "\n",
    "<p><img alt=\"\" src=\"figures/5_RandomForest.png\" style=\"width: 592px; height: 444px;\" /></p>\n",
    "\n",
    "<p>Terdiri dari beberapa decision tree. Merupakan ensamble algorithm yang mengambil hasil dari beberapa decision tree. </p>\n",
    "\n",
    "<strong>Kelenihan:</strong>\n",
    "- Robust terhadap outlier\n",
    "- Dapat bekerja dengan baik pada non-linear data\n",
    "- Dapat menurunkan risiko overfitting\n",
    "- Dapat bekerja dengan efisien pada data set yang besar\n",
    "\n",
    "<strong>Kekurangan:</strong>\n",
    "- Bias ketika dipergunakan untuk categorical variabel\n",
    "- lambat"
   ]
  },
  {
   "cell_type": "code",
   "execution_count": null,
   "metadata": {},
   "outputs": [],
   "source": [
    "# Random Forest\n",
    "# http://scikit-learn.org/stable/modules/generated/sklearn.ensemble.RandomForestClassifier.html\n",
    "from sklearn.ensemble import RandomForestClassifier\n",
    "\n",
    "RandomForest = RandomForestClassifier()\n",
    "RandomForest.fit(X_train, Y_train)\n",
    "Y_RF = RandomForest.predict(X_test)\n",
    "accuracy_score(Y_test, Y_RF)"
   ]
  },
  {
   "cell_type": "markdown",
   "metadata": {},
   "source": [
    "### Support Vector Machine (SVM)\n",
    "\n",
    "<p><img alt=\"\" src=\"figures/6_SVM.jpg\" style=\"height: 262px ; width: 232px\" /><img alt=\"\" src=\"figures/svm_opt.png\" style=\"width: 300px; height: 106px;\" /></p>\n",
    "<p>SVM melakukan plotting data ke dalam n-dimensi. Klasifikasi dilakukan dengan mencari hyper-plane yg memisahkan dua kelas.</p>\n",
    "\n",
    "<h4> SVM kernel </h4>\n",
    "<p> SVM kernel digunakan untuk data yang bersifat non-linear. Data yang bersifat non-linear tidak dapat dipisahkan dengan menggunakan garis lurus seperti pada data linear. Untuk mengatasi permasalahan tersebut digunakan <strong>kernel trick</strong>. Kernel trick mentransformasikan data ke dalam dimensi yg lebih tinggi agar lebih mudah dipisahkan.</p>\n",
    "\n",
    "<strong> Beberapa kernel SVM:</strong>\n",
    "- Linear\n",
    "- Polynomial\n",
    "- RBF\n",
    "- Sigmoid\n"
   ]
  },
  {
   "cell_type": "markdown",
   "metadata": {},
   "source": [
    "<h4>SVM multiclass</h4>\n",
    "\n",
    "<p><img alt=\"\" src=\"figures/6_SVM_Ova.jpg\" style=\"height:314px; width:432px\" /></p>"
   ]
  },
  {
   "cell_type": "markdown",
   "metadata": {},
   "source": [
    "<strong>Kelebihan:</strong>\n",
    "- Dapat bekerja dengan efektif pada dataset berukuran kecil\n",
    "- Memiliki performa yang baik untuk data berdimensi tinggi\n",
    "- Relatif efisien dalam penggunaan memori\n",
    "\n",
    "<strong>Kekurangan:</strong>\n",
    "- Kurang cocok untuk dataset berukuran besar\n",
    "- Kurang efektif untuk data yang memiliki banyak noise"
   ]
  },
  {
   "cell_type": "code",
   "execution_count": null,
   "metadata": {},
   "outputs": [],
   "source": [
    "# SVM\n",
    "# http://scikit-learn.org/stable/modules/svm.html\n",
    "from sklearn import svm\n",
    "\n",
    "dSVM = svm.SVC(decision_function_shape='ovo') # one versus one SVM\n",
    "dSVM.fit(X_train, Y_train)\n",
    "Y_SVM = dSVM.predict(X_test)\n",
    "accuracy_score(Y_test, Y_SVM)"
   ]
  },
  {
   "cell_type": "code",
   "execution_count": null,
   "metadata": {},
   "outputs": [],
   "source": [
    "# Menggunakan kernel trick\n",
    "# Default kernel dari fungsi SVM pada scikit learn adalah 'RBF'\n",
    "list_kernel = ['linear', 'poly', 'rbf', 'sigmoid']\n",
    "for kernel in list_kernel:\n",
    "    dSVM = svm.SVC(kernel=kernel, gamma='auto')\n",
    "    dSVM.fit(X_train, Y_train)\n",
    "    y_SVM = dSVM.predict(X_test)\n",
    "    print(kernel, ':', accuracy_score(Y_test, y_SVM))"
   ]
  },
  {
   "cell_type": "markdown",
   "metadata": {},
   "source": [
    "### Cross Validation\n",
    "\n",
    "<p>Cross validation dipergunakan untuk memvalidasi hasil dari suatu model, memastikan objektifitas dari hasil. </p>\n",
    "\n",
    "<p><img alt=\"\" src=\"figures/6_Cross_validation.png\" style=\"height:274px; width:485px\" /></p>"
   ]
  },
  {
   "cell_type": "code",
   "execution_count": null,
   "metadata": {},
   "outputs": [],
   "source": [
    "# Cross validation\n",
    "# http://scikit-learn.org/stable/modules/generated/sklearn.model_selection.cross_val_score.html\n",
    "from sklearn.model_selection import cross_val_score\n",
    "import time\n",
    "\n",
    "svm_ = svm.SVC(kernel='linear')\n",
    "start = time.time()\n",
    "scores_svm = cross_val_score(svm_, X_clear, Y, cv=10) # perhatikan sekarang kita menggunakan seluruh data\n",
    "timepros = time.time() - start\n",
    "\n",
    "print(\"Accuracy SVM: %0.2f (+/- %0.2f), Waktu = %0.3f detik\" % (scores_svm.mean(), scores_svm.std() * 2, timepros))"
   ]
  },
  {
   "cell_type": "code",
   "execution_count": null,
   "metadata": {},
   "outputs": [],
   "source": [
    "# Bagaimana dengan k-NN ?\n",
    "mulai = time.time()\n",
    "scores_kNN = cross_val_score(kNN, X_clear, Y, cv=10) # perhatikan sekarang kita menggunakan seluruh data\n",
    "waktu = time.time() - mulai\n",
    "# Interval Akurasi 95 CI \n",
    "print(\"Accuracy k-NN: %0.2f (+/- %0.2f), Waktu = %0.3f detik\" % (scores_kNN.mean(), scores_kNN.std() * 2, waktu))"
   ]
  },
  {
   "cell_type": "code",
   "execution_count": null,
   "metadata": {},
   "outputs": [],
   "source": [
    "# Visualisasi hasil dengan boxplot\n",
    "# Buat BoxPlotnya\n",
    "import matplotlib.pyplot as plt\n",
    "import numpy as np\n",
    "\n",
    "Data = [scores_svm, scores_kNN]\n",
    "L = ['SVM', 'kNN']\n",
    "\n",
    "fig, ax = plt.subplots()\n",
    "  \n",
    "# Creating plot \n",
    "plt.boxplot(Data) \n",
    "  \n",
    "# show plot \n",
    "plt.show() "
   ]
  },
  {
   "cell_type": "markdown",
   "metadata": {},
   "source": [
    "### Bagaimana jika ingin menggunakan word embedding sebagai representasi vektornya?"
   ]
  },
  {
   "cell_type": "code",
   "execution_count": null,
   "metadata": {},
   "outputs": [],
   "source": [
    "# Melakukan persiapan dokumen\n",
    "# yang digunakan sebagai data adalah docs_nonzero\n",
    "doc_gensim = [word_tokenize(d) for d in docs_nonzero]"
   ]
  },
  {
   "cell_type": "code",
   "execution_count": null,
   "metadata": {},
   "outputs": [],
   "source": [
    "# membuat Word Embeddingnya\n",
    "from gensim.models import FastText\n",
    "\n",
    "N = len(doc_gensim)\n",
    "dim = 300 # Jumlah neurons = ukuran vektor = jumlah kolom\n",
    "model_FT = FastText(doc_gensim, size=dim, window=5, min_count=1, workers=-1)"
   ]
  },
  {
   "cell_type": "code",
   "execution_count": null,
   "metadata": {},
   "outputs": [],
   "source": [
    "# NOTE: \n",
    "# tidak dapat langsung menggunakan hasil dari word embedding\n",
    "# representasi vektor embedding adalah representasi per kata\n",
    "# harus mengkonversikan dari word embedding ke dalam vektor space\n",
    "# dokumen x words\n",
    "def we2vsm(model_we, data_we):\n",
    "    N = len(data_we)\n",
    "    L = model_we.vector_size\n",
    "    vsm_we = np.empty([N, L], dtype=np.float64) # inisialisasi matriks\n",
    "    for i,d in enumerate(data_we):\n",
    "        tmp = np.zeros([1, L], dtype=np.float64)\n",
    "        count = 0\n",
    "        for t in d:\n",
    "            try:\n",
    "                tmp += model_we.wv.__getitem__([t])\n",
    "                count += 1\n",
    "            except:\n",
    "                pass\n",
    "        if count>0:\n",
    "            vsm_we[i] = tmp/count\n",
    "    return vsm_we"
   ]
  },
  {
   "cell_type": "code",
   "execution_count": null,
   "metadata": {},
   "outputs": [],
   "source": [
    "vsm_we = we2vsm(model_FT, doc_gensim)\n",
    "vsm_we.shape"
   ]
  },
  {
   "cell_type": "markdown",
   "metadata": {},
   "source": [
    "#### Setelah memiliki bentuk representasi dokumen, langkah selanjutnya adalah melakukan proses klasifikasi seperti yang telah dicontohkan sebelumnya"
   ]
  },
  {
   "cell_type": "markdown",
   "metadata": {},
   "source": [
    "<h3 id=\"Latihan:\"><font color=\"blue\">Latihan 2:</font></h3>\n",
    "\n",
    "- Lakukan klasifikasi dengan representasi yang telah diperoleh dari proses word embedding (vsm_we) dengan berbagai metode (knn, desicion tree, random forest, naive bayes, dan VSM)\n",
    "- Visualisasikan hasilnya\n",
    "- Bandingkan hasilnya dengan representasi dari VSM-TFIDF"
   ]
  },
  {
   "cell_type": "code",
   "execution_count": null,
   "metadata": {},
   "outputs": [],
   "source": [
    "# Kerjakan latihan 2 pada cell berikut ini\n",
    "\n"
   ]
  }
 ],
 "metadata": {
  "celltoolbar": "Slideshow",
  "kernelspec": {
   "display_name": "Python 3",
   "language": "python",
   "name": "python3"
  },
  "language_info": {
   "codemirror_mode": {
    "name": "ipython",
    "version": 3
   },
   "file_extension": ".py",
   "mimetype": "text/x-python",
   "name": "python",
   "nbconvert_exporter": "python",
   "pygments_lexer": "ipython3",
   "version": "3.6.6"
  }
 },
 "nbformat": 4,
 "nbformat_minor": 2
}
