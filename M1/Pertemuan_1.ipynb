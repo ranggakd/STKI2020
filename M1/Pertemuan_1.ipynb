{
 "cells": [
  {
   "cell_type": "markdown",
   "metadata": {
    "slideshow": {
     "slide_type": "slide"
    }
   },
   "source": [
    "<center><strong>Sistem Temu Kembali Informasi</strong><br />\n",
    "<strong><font color=\"blue\">Semester Gasal T.A. 2020/2021</font></strong><br />\n",
    "</center>\n",
    "\n",
    "<strong>Outline pertemuan minggu ke-1</strong><br />\n",
    "<li> Instalasi anaconda </li>\n",
    "<li> Instalasi Library yang dibutuhkan selama kelas STKI </li>\n",
    "\n",
    "<strong>Catatan</strong>: dibutuhkan <strong>koneksi internet</strong> untuk melakukan instalasi program dan library \n",
    "\n"
   ]
  },
  {
   "cell_type": "markdown",
   "metadata": {
    "slideshow": {
     "slide_type": "slide"
    }
   },
   "source": [
    "<strong> Requirements: </strong>\n",
    "<dl>\n",
    "\t<dd>Python 3. (anaconda)</dd>\n",
    "    <dd>Library: </dd>\n",
    "    <dt> - NLTK </dt>\n",
    "    <dt> - scikit-learn </dt>\n",
    "    <dt> - textblob </dt>\n",
    "    <dt> - Sastrawi </dt>\n",
    "    <dt> - gensim </dt>\n",
    "    <dt> - Keras </dt>\n",
    "    <dt> - spacy </dt>\n",
    "    <dt> - numpy </dt>\n",
    "    <dt> - scipy </dt>\n",
    "    <dt> - pandas </dt>\n",
    "    <dt> - networkx </dt>\n",
    "</dl>\n",
    "<p>Ekspektasi spesifikasi komputer:</p>\n",
    "\n",
    "<ol>\n",
    "\t<li><strong>OS</strong>: Windows/Linux/Mac <strong><font color=\"blue\">64bit</font></strong></li>\n",
    "\t<li><strong>RAM</strong>: 4Gb or More</li>\n",
    "\t<li><strong>CPU</strong>: minimum 1 Ghz</li>\n",
    "</ol>"
   ]
  },
  {
   "cell_type": "markdown",
   "metadata": {
    "slideshow": {
     "slide_type": "slide"
    }
   },
   "source": [
    "__Anaconda__\n",
    "\n",
    "<li> Download anaconda installer dari <a href=\"https://www.anaconda.com/products/individual\">https://www.anaconda.com/products/individual</a>\n",
    "<li>Pilih installer sesuai dengan OS pada maisng-masing komputer\n",
    "<li>Ikuti proses installasi sesuai dengan petunjuk\n",
    "\n",
    "<img alt=\"\" src=\"figures/anaconda.png\" /> \n"
   ]
  },
  {
   "cell_type": "markdown",
   "metadata": {},
   "source": [
    "<p> Setelah berhasil melakukan instalasi Anaconda cobalah untuk membuka Anaconda Navigator sehingga muncul tampilan seperti di bawah ini </p>\n",
    "\n",
    "<p>\n",
    "<img alt=\"\" src=\"figures/navigator.png\" /> \n",
    "</p>"
   ]
  },
  {
   "cell_type": "markdown",
   "metadata": {},
   "source": [
    "__Melakukan setting environment__\n",
    "\n",
    "Sebelum melakukan instalasi library terlebih dahulu dilakukan pembuatan __environment baru__ (secara default __base (root)__)\n",
    "<li> Pilih tab Environments pada bagian kiri </li>\n",
    "<li> Pilih create </li>\n",
    "<li> Masukkan nama Environments yang diinginkan (contoh: python38) </li>\n",
    "<li> Pilih package python dan versinya </li>\n",
    "<li> Tekan tombol create </li>"
   ]
  },
  {
   "cell_type": "markdown",
   "metadata": {},
   "source": [
    "__Masuk ke dalam Environment baru__\n",
    "\n",
    "<p> Sebelum melakukan installasi library pastikan anda sudah berada pada environment baru yang telah ada buat sebelumnya </p>\n",
    "<p> Pilih tab Home; pastikan pada bagian Applications on sudah dipilih nama <strong> Environment baru </strong> seperti yang ditunjukkan pada gambar di bawah ini </p>\n",
    "<p>\n",
    "<img alt=\"\" src=\"figures/env.png\" /> \n",
    "</p>"
   ]
  },
  {
   "cell_type": "markdown",
   "metadata": {},
   "source": [
    "__Installasi Library__\n",
    "<li> Pilih tab Environments </li>\n",
    "<li> Pilih not installed seperti pada Gambar di bawah ini</li>\n",
    "<li> Carilah library yang diiginkan pada search </li>\n",
    "<li> Kemudian lakukan installasi </li>\n",
    "\n",
    "<p>\n",
    "<img alt=\"\" src=\"figures/library.png\" /> \n",
    "</p>"
   ]
  },
  {
   "cell_type": "markdown",
   "metadata": {},
   "source": [
    "Setelah selesai malakukan installasi library, selanjutnya dilakukan installasi jupyter notebook denagn menekan tombol install di bawah icon jupyter notebook pada tab Home\n",
    "\n",
    "__Note:__ pastikan sudah berada pada Environment baru yang telah dibuat"
   ]
  },
  {
   "cell_type": "markdown",
   "metadata": {},
   "source": [
    "__Tes Library__\n",
    "\n",
    "Launch __jupyter notebook__ kemudian coba import library yang telah diinstall seperti pada cell di bawah ini\n",
    "\n",
    "<p>Apabila tidak ada error berarti installasi semua library telah berhasil</p>"
   ]
  },
  {
   "cell_type": "code",
   "execution_count": 2,
   "metadata": {},
   "outputs": [
    {
     "output_type": "stream",
     "name": "stderr",
     "text": [
      "Using TensorFlow backend.\n"
     ]
    }
   ],
   "source": [
    "import nltk\n",
    "import sklearn\n",
    "import gensim\n",
    "import keras\n",
    "import spacy\n",
    "import numpy\n",
    "import scipy\n",
    "import pandas\n",
    "import networkx"
   ]
  },
  {
   "cell_type": "code",
   "execution_count": 5,
   "metadata": {},
   "outputs": [
    {
     "output_type": "stream",
     "name": "stdout",
     "text": [
      "Collecting textblob\n  Downloading textblob-0.15.3-py2.py3-none-any.whl (636 kB)\nCollecting Sastrawi\n  Downloading Sastrawi-1.0.1-py2.py3-none-any.whl (209 kB)\nRequirement already satisfied: nltk>=3.1 in c:\\users\\acer\\anaconda3\\envs\\stki\\lib\\site-packages (from textblob) (3.5)\nRequirement already satisfied: joblib in c:\\users\\acer\\anaconda3\\envs\\stki\\lib\\site-packages (from nltk>=3.1->textblob) (0.17.0)\nRequirement already satisfied: click in c:\\users\\acer\\anaconda3\\envs\\stki\\lib\\site-packages (from nltk>=3.1->textblob) (7.1.2)\nRequirement already satisfied: regex in c:\\users\\acer\\anaconda3\\envs\\stki\\lib\\site-packages (from nltk>=3.1->textblob) (2020.9.27)\nRequirement already satisfied: tqdm in c:\\users\\acer\\anaconda3\\envs\\stki\\lib\\site-packages (from nltk>=3.1->textblob) (4.50.2)\nInstalling collected packages: textblob, Sastrawi\nSuccessfully installed Sastrawi-1.0.1 textblob-0.15.3\n"
     ]
    }
   ],
   "source": [
    "!pip install textblob Sastrawi\n",
    "import textblob\n",
    "import Sastrawi"
   ]
  }
 ],
 "metadata": {
  "celltoolbar": "Slideshow",
  "kernelspec": {
   "name": "Python 3.7.9 64-bit ('stki': conda)",
   "display_name": "Python 3.7.9 64-bit ('stki': conda)",
   "metadata": {
    "interpreter": {
     "hash": "e57d1b1b8ff6275b181ee0a3a4d742460414aec1e5ac6279440be3a6e7672b9e"
    }
   }
  },
  "language_info": {
   "codemirror_mode": {
    "name": "ipython",
    "version": 3
   },
   "file_extension": ".py",
   "mimetype": "text/x-python",
   "name": "python",
   "nbconvert_exporter": "python",
   "pygments_lexer": "ipython3",
   "version": "3.7.9-final"
  }
 },
 "nbformat": 4,
 "nbformat_minor": 2
}